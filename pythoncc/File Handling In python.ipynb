{
 "cells": [
  {
   "cell_type": "code",
   "execution_count": 16,
   "metadata": {},
   "outputs": [
    {
     "data": {
      "text/plain": [
       "'Name=Yo'"
      ]
     },
     "execution_count": 16,
     "metadata": {},
     "output_type": "execute_result"
    }
   ],
   "source": [
    "# Reading part of file\n",
    "f=open(\"C:\\\\Users\\\\Admins\\\\Desktop\\\\Temp\\\\Record.txt\",\"r\")\n",
    "f.read(7)"
   ]
  },
  {
   "cell_type": "code",
   "execution_count": 18,
   "metadata": {},
   "outputs": [
    {
     "data": {
      "text/plain": [
       "'Name=Yogesh Prakash dadas\\nAge=19\\nPlace-Kalamboli'"
      ]
     },
     "execution_count": 18,
     "metadata": {},
     "output_type": "execute_result"
    }
   ],
   "source": [
    "# Reading file\n",
    "f=open(\"C:\\\\Users\\\\Admins\\\\Desktop\\\\Temp\\\\Record.txt\",\"r\")\n",
    "f.read()"
   ]
  },
  {
   "cell_type": "code",
   "execution_count": 22,
   "metadata": {},
   "outputs": [
    {
     "name": "stdout",
     "output_type": "stream",
     "text": [
      "['Name=Yogesh Prakash dadas\\n', 'Age=19\\n', 'Place-Kalamboli']\n"
     ]
    }
   ],
   "source": [
    "# Reading file line by line\n",
    "f=open(\"C:\\\\Users\\\\Admins\\\\Desktop\\\\Temp\\\\Record.txt\",\"r\")\n",
    "print(f.readlines())"
   ]
  },
  {
   "cell_type": "code",
   "execution_count": 23,
   "metadata": {},
   "outputs": [
    {
     "name": "stdout",
     "output_type": "stream",
     "text": [
      "Name=Yogesh Prakash dadas\n",
      "\n",
      "Age=19\n",
      "\n",
      "Place-Kalamboli\n"
     ]
    }
   ],
   "source": [
    "# Reading file\n",
    "f=open(\"C:\\\\Users\\\\Admins\\\\Desktop\\\\Temp\\\\Record.txt\",\"r\")\n",
    "for line in f:\n",
    "    print(line)"
   ]
  },
  {
   "cell_type": "markdown",
   "metadata": {},
   "source": [
    "# How to close opend file"
   ]
  },
  {
   "cell_type": "code",
   "execution_count": 26,
   "metadata": {},
   "outputs": [
    {
     "name": "stdout",
     "output_type": "stream",
     "text": [
      "File is opend\n",
      "File is closed\n"
     ]
    }
   ],
   "source": [
    "\n",
    "\n",
    "f=open(\"C:\\\\Users\\\\Admins\\\\Desktop\\\\Temp\\\\Record.txt\")\n",
    "print(\"File is opend\")\n",
    "f.read()\n",
    "f.close()\n",
    "print(\"File is closed\")"
   ]
  },
  {
   "cell_type": "markdown",
   "metadata": {},
   "source": [
    "# Writing in file\n",
    "- For writing there are 2 modes such as\n",
    "- a= append(does not override)\n",
    "- w= write(It can be override)\n"
   ]
  },
  {
   "cell_type": "code",
   "execution_count": 1,
   "metadata": {},
   "outputs": [
    {
     "name": "stdout",
     "output_type": "stream",
     "text": [
      "\n",
      "Enter info.Yogesh\n",
      "File Closed\n"
     ]
    }
   ],
   "source": [
    "f=open(\"C:\\\\Users\\\\Admins\\\\Desktop\\\\Temp\\\\Record.txt\",\"a\")\n",
    "append_text=input(\"\\nEnter info.\")\n",
    "f.write(\"\\n\"+append_text)\n",
    "f.close()\n",
    "print(\"File Closed\")\n"
   ]
  },
  {
   "cell_type": "code",
   "execution_count": 5,
   "metadata": {},
   "outputs": [
    {
     "name": "stdout",
     "output_type": "stream",
     "text": [
      "File Closed\n"
     ]
    }
   ],
   "source": [
    "f=open(\"C:\\\\Users\\\\Admins\\\\Desktop\\\\Temp\\\\Record.txt\",\"w\")\n",
    "f.write(\"\\nYogesh Prakash Dadas\")\n",
    "\n",
    "f.close()\n",
    "print(\"File Closed\")"
   ]
  },
  {
   "cell_type": "code",
   "execution_count": 6,
   "metadata": {},
   "outputs": [
    {
     "name": "stdout",
     "output_type": "stream",
     "text": [
      "\n",
      "Yogesh Prakash Dadas\n"
     ]
    }
   ],
   "source": [
    "#read updated file\n",
    "f=open(\"C:\\\\Users\\\\Admins\\\\Desktop\\\\Temp\\\\Record.txt\",\"r\")\n",
    "print(f.read())\n"
   ]
  },
  {
   "cell_type": "markdown",
   "metadata": {},
   "source": [
    "# Create new file"
   ]
  },
  {
   "cell_type": "code",
   "execution_count": 7,
   "metadata": {},
   "outputs": [
    {
     "name": "stdout",
     "output_type": "stream",
     "text": [
      "Success\n"
     ]
    }
   ],
   "source": [
    "f1=open(\"C:\\\\Users\\\\Admins\\\\Desktop\\\\Temp\\\\Record1.txt\",\"x\")\n",
    "f1.write(\"Hiii...Its created\")\n",
    "f1.close()\n",
    "print(\"Success\")\n"
   ]
  },
  {
   "cell_type": "code",
   "execution_count": 9,
   "metadata": {},
   "outputs": [
    {
     "name": "stdout",
     "output_type": "stream",
     "text": [
      "Success\n"
     ]
    }
   ],
   "source": [
    "f1=open(\"C:\\\\Users\\\\Admins\\\\Desktop\\\\Temp\\\\Record2.txt\",\"w\")\n",
    "f1.write(\"Hiii...Its created 2\")\n",
    "f1.close()\n",
    "print(\"Success\")"
   ]
  },
  {
   "cell_type": "code",
   "execution_count": 10,
   "metadata": {},
   "outputs": [
    {
     "name": "stdout",
     "output_type": "stream",
     "text": [
      "Success\n"
     ]
    }
   ],
   "source": [
    "f1=open(\"C:\\\\Users\\\\Admins\\\\Desktop\\\\Temp\\\\Record3.txt\",\"a\")\n",
    "f1.write(\"Hiii...Its created\")\n",
    "f1.close()\n",
    "print(\"Success\")"
   ]
  },
  {
   "cell_type": "markdown",
   "metadata": {},
   "source": [
    "- To create files in python we can use any key a, x, and w"
   ]
  },
  {
   "cell_type": "markdown",
   "metadata": {},
   "source": [
    "# Deleting files and directory\n",
    "- Whenever we deleting orworking with file, it must be closed at end"
   ]
  },
  {
   "cell_type": "code",
   "execution_count": 11,
   "metadata": {},
   "outputs": [],
   "source": [
    "\n",
    "import os "
   ]
  },
  {
   "cell_type": "code",
   "execution_count": 13,
   "metadata": {},
   "outputs": [],
   "source": [
    "os.remove(\"C:\\\\Users\\\\Admins\\\\Desktop\\\\Temp\\\\Record1.txt\")"
   ]
  },
  {
   "cell_type": "code",
   "execution_count": 15,
   "metadata": {},
   "outputs": [],
   "source": [
    "if os.path.exists(\"C:\\\\Users\\\\Admins\\\\Desktop\\\\Temp\\\\Record2.txt\"):\n",
    "    os.remove(\"C:\\\\Users\\\\Admins\\\\Desktop\\\\Temp\\\\Record2.txt\")\n",
    "else:\n",
    "    print(\"File not found\")"
   ]
  },
  {
   "cell_type": "code",
   "execution_count": null,
   "metadata": {},
   "outputs": [],
   "source": []
  },
  {
   "cell_type": "code",
   "execution_count": 21,
   "metadata": {},
   "outputs": [],
   "source": [
    "import os\n",
    "os.mkdir(\"C:\\\\Users\\\\Admins\\\\Desktop\\\\Temp3\")\n",
    "f1=open(\"C:\\\\Users\\\\Admins\\\\Desktop\\\\Temp3\\\\r1.txt\",\"wt\")\n",
    "f1.write(\"\\nHiii....Its Ceated\")\n",
    "f1.close()"
   ]
  },
  {
   "cell_type": "code",
   "execution_count": 24,
   "metadata": {},
   "outputs": [],
   "source": [
    "import os\n",
    "os.remove(\"C:\\\\Users\\\\Admins\\\\Desktop\\\\Temp3\\\\r1.txt\")"
   ]
  },
  {
   "cell_type": "code",
   "execution_count": 3,
   "metadata": {},
   "outputs": [],
   "source": [
    "#WAP to accept employee details and write into employee.txt\n",
    "# id, name,department ,salory ,address from user\n",
    "import os\n",
    "os.mkdir(\"C:\\\\Users\\\\Admins\\\\Desktop\\\\Employee\")\n"
   ]
  },
  {
   "cell_type": "code",
   "execution_count": 18,
   "metadata": {},
   "outputs": [
    {
     "name": "stdout",
     "output_type": "stream",
     "text": [
      "Enter Ur IdEN123454\n",
      "Enter Ur Salary50000\n",
      "Enter Ur NameYogesh\n",
      "Enter Ur DepartmentComps\n",
      "Enter Ur AddressDhyan\n"
     ]
    }
   ],
   "source": [
    "file1=open(\"C:\\\\Users\\\\Admins\\\\Desktop\\\\Employee\\\\Employee1.txt\",\"w\")\n",
    "employee_id=input(\"Enter Ur Id\")\n",
    "employee_sal=(input(\"Enter Ur Salary\"))\n",
    "employee_name=input(\"Enter Ur Name\")\n",
    "employee_dep=input(\"Enter Ur Department\")\n",
    "employee_add=input(\"Enter Ur Address\")\n",
    "file1.write(\"\\nId=\"+employee_id)\n",
    "file1.write(\"\\nSalary=\"+employee_sal)\n",
    "file1.write(\"\\nName=\"+employee_name)\n",
    "file1.write(\"\\nDepartment=\"+employee_dep)\n",
    "file1.write(\"\\nAddress=\"+employee_add)\n",
    "\n",
    "file1.close()"
   ]
  },
  {
   "cell_type": "code",
   "execution_count": null,
   "metadata": {},
   "outputs": [],
   "source": []
  }
 ],
 "metadata": {
  "kernelspec": {
   "display_name": "Python 3",
   "language": "python",
   "name": "python3"
  },
  "language_info": {
   "codemirror_mode": {
    "name": "ipython",
    "version": 3
   },
   "file_extension": ".py",
   "mimetype": "text/x-python",
   "name": "python",
   "nbconvert_exporter": "python",
   "pygments_lexer": "ipython3",
   "version": "3.7.4"
  }
 },
 "nbformat": 4,
 "nbformat_minor": 2
}
