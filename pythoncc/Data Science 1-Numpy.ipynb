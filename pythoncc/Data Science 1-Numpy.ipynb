{
 "cells": [
  {
   "cell_type": "markdown",
   "metadata": {},
   "source": [
    "## Numpy  stands for numerical python \n",
    "- One of the most Importanat libraray for numerical computatioon\n",
    "- It supports N dimensional array objects \n",
    "- It supports Diff. data types\n",
    "## Using Numpy we can Performs\n",
    "- Maths & Logical operations on arrays\n",
    "- Fourier transforms\n",
    "- Linear Algebra operations\n",
    "- Random Number Generation\n"
   ]
  },
  {
   "cell_type": "code",
   "execution_count": 6,
   "metadata": {},
   "outputs": [
    {
     "name": "stdout",
     "output_type": "stream",
     "text": [
      "Package                            Version  \n",
      "---------------------------------- ---------\n",
      "alabaster                          0.7.12   \n",
      "anaconda-client                    1.7.2    \n",
      "anaconda-navigator                 1.9.7    \n",
      "anaconda-project                   0.8.3    \n",
      "asgiref                            3.2.3    \n",
      "asn1crypto                         1.0.1    \n",
      "astroid                            2.3.1    \n",
      "astropy                            3.2.1    \n",
      "atomicwrites                       1.3.0    \n",
      "attrs                              19.2.0   \n",
      "Babel                              2.7.0    \n",
      "backcall                           0.1.0    \n",
      "backports.functools-lru-cache      1.5      \n",
      "backports.os                       0.1.1    \n",
      "backports.shutil-get-terminal-size 1.0.0    \n",
      "backports.tempfile                 1.0      \n",
      "backports.weakref                  1.0.post1\n",
      "beautifulsoup4                     4.8.0    \n",
      "bitarray                           1.0.1    \n",
      "bkcharts                           0.2      \n",
      "bleach                             3.1.0    \n",
      "bokeh                              1.3.4    \n",
      "boto                               2.49.0   \n",
      "Bottleneck                         1.2.1    \n",
      "camelcase                          0.2      \n",
      "certifi                            2019.9.11\n",
      "cffi                               1.12.3   \n",
      "chardet                            3.0.4    \n",
      "Click                              7.0      \n",
      "cloudpickle                        1.2.2    \n",
      "clyent                             1.2.2    \n",
      "colorama                           0.4.1    \n",
      "comtypes                           1.1.7    \n",
      "conda                              4.7.12   \n",
      "conda-build                        3.18.9   \n",
      "conda-package-handling             1.6.0    \n",
      "conda-verify                       3.4.2    \n",
      "contextlib2                        0.6.0    \n",
      "cryptography                       2.7      \n",
      "cycler                             0.10.0   \n",
      "Cython                             0.29.13  \n",
      "cytoolz                            0.10.0   \n",
      "dask                               2.5.2    \n",
      "decorator                          4.4.0    \n",
      "defusedxml                         0.6.0    \n",
      "distributed                        2.5.2    \n",
      "Django                             3.0.2    \n",
      "docutils                           0.15.2   \n",
      "entrypoints                        0.3      \n",
      "et-xmlfile                         1.0.1    \n",
      "fastcache                          1.1.0    \n",
      "filelock                           3.0.12   \n",
      "Flask                              1.1.1    \n",
      "fsspec                             0.5.2    \n",
      "future                             0.17.1   \n",
      "gevent                             1.4.0    \n",
      "glob2                              0.7      \n",
      "greenlet                           0.4.15   \n",
      "h5py                               2.9.0    \n",
      "HeapDict                           1.0.1    \n",
      "html5lib                           1.0.1    \n",
      "idna                               2.8      \n",
      "imageio                            2.6.0    \n",
      "imagesize                          1.1.0    \n",
      "importlib-metadata                 0.23     \n",
      "ipykernel                          5.1.2    \n",
      "ipython                            7.8.0    \n",
      "ipython-genutils                   0.2.0    \n",
      "ipywidgets                         7.5.1    \n",
      "isort                              4.3.21   \n",
      "itsdangerous                       1.1.0    \n",
      "jdcal                              1.4.1    \n",
      "jedi                               0.15.1   \n",
      "Jinja2                             2.10.3   \n",
      "joblib                             0.13.2   \n",
      "json5                              0.8.5    \n",
      "jsonschema                         3.0.2    \n",
      "jupyter                            1.0.0    \n",
      "jupyter-client                     5.3.3    \n",
      "jupyter-console                    6.0.0    \n",
      "jupyter-core                       4.5.0    \n",
      "jupyterlab                         1.1.4    \n",
      "jupyterlab-server                  1.0.6    \n",
      "keyring                            18.0.0   \n",
      "kiwisolver                         1.1.0    \n",
      "lazy-object-proxy                  1.4.2    \n",
      "libarchive-c                       2.8      \n",
      "llvmlite                           0.29.0   \n",
      "locket                             0.2.0    \n",
      "lxml                               4.4.1    \n",
      "MarkupSafe                         1.1.1    \n",
      "matplotlib                         3.1.1    \n",
      "mccabe                             0.6.1    \n",
      "menuinst                           1.4.16   \n",
      "mistune                            0.8.4    \n",
      "mkl-fft                            1.0.14   \n",
      "mkl-random                         1.1.0    \n",
      "mkl-service                        2.3.0    \n",
      "mock                               3.0.5    \n",
      "more-itertools                     7.2.0    \n",
      "mpmath                             1.1.0    \n",
      "msgpack                            0.6.1    \n",
      "multipledispatch                   0.6.0    \n",
      "mysql-connector                    2.2.9    \n",
      "navigator-updater                  0.2.1    \n",
      "nbconvert                          5.6.0    \n",
      "nbformat                           4.4.0    \n",
      "networkx                           2.3      \n",
      "nltk                               3.4.5    \n",
      "nose                               1.3.7    \n",
      "notebook                           6.0.1    \n",
      "numba                              0.45.1   \n",
      "numexpr                            2.7.0    \n",
      "numpy                              1.16.5   \n",
      "numpydoc                           0.9.1    \n",
      "olefile                            0.46     \n",
      "openpyxl                           3.0.0    \n",
      "packaging                          19.2     \n",
      "pandas                             0.25.1   \n",
      "pandocfilters                      1.4.2    \n",
      "parso                              0.5.1    \n",
      "partd                              1.0.0    \n",
      "path.py                            12.0.1   \n",
      "pathlib2                           2.3.5    \n",
      "patsy                              0.5.1    \n",
      "pep8                               1.7.1    \n",
      "pickleshare                        0.7.5    \n",
      "Pillow                             6.2.0    \n",
      "pip                                19.2.3   \n",
      "pkginfo                            1.5.0.1  \n",
      "pluggy                             0.13.0   \n",
      "ply                                3.11     \n",
      "prometheus-client                  0.7.1    \n",
      "prompt-toolkit                     2.0.10   \n",
      "psutil                             5.6.3    \n",
      "py                                 1.8.0    \n",
      "pycodestyle                        2.5.0    \n",
      "pycosat                            0.6.3    \n",
      "pycparser                          2.19     \n",
      "pycrypto                           2.6.1    \n",
      "pycurl                             7.43.0.3 \n",
      "pyflakes                           2.1.1    \n",
      "Pygments                           2.4.2    \n",
      "pylint                             2.4.2    \n",
      "pyodbc                             4.0.27   \n",
      "pyOpenSSL                          19.0.0   \n",
      "pyparsing                          2.4.2    \n",
      "pyreadline                         2.1      \n",
      "pyrsistent                         0.15.4   \n",
      "PySocks                            1.7.1    \n",
      "pytest                             5.2.1    \n",
      "pytest-arraydiff                   0.3      \n",
      "pytest-astropy                     0.5.0    \n",
      "pytest-doctestplus                 0.4.0    \n",
      "pytest-openfiles                   0.4.0    \n",
      "pytest-remotedata                  0.3.2    \n",
      "python-dateutil                    2.8.0    \n",
      "pytz                               2019.3   \n",
      "PyWavelets                         1.0.3    \n",
      "pywin32                            223      \n",
      "pywinpty                           0.5.5    \n",
      "PyYAML                             5.1.2    \n",
      "pyzmq                              18.1.0   \n",
      "qrcode                             6.1      \n",
      "QtAwesome                          0.6.0    \n",
      "qtconsole                          4.5.5    \n",
      "QtPy                               1.9.0    \n",
      "requests                           2.22.0   \n",
      "rope                               0.14.0   \n",
      "ruamel-yaml                        0.15.46  \n",
      "scikit-image                       0.15.0   \n",
      "scikit-learn                       0.21.3   \n",
      "scipy                              1.3.1    \n",
      "seaborn                            0.9.0    \n",
      "Send2Trash                         1.5.0    \n",
      "setuptools                         41.4.0   \n",
      "simplegeneric                      0.8.1    \n",
      "singledispatch                     3.4.0.3  \n",
      "six                                1.12.0   \n",
      "snowballstemmer                    2.0.0    \n",
      "sortedcollections                  1.1.2    \n",
      "sortedcontainers                   2.1.0    \n",
      "soupsieve                          1.9.3    \n",
      "Sphinx                             2.2.0    \n",
      "sphinxcontrib-applehelp            1.0.1    \n",
      "sphinxcontrib-devhelp              1.0.1    \n",
      "sphinxcontrib-htmlhelp             1.0.2    \n",
      "sphinxcontrib-jsmath               1.0.1    \n",
      "sphinxcontrib-qthelp               1.0.2    \n",
      "sphinxcontrib-serializinghtml      1.1.3    \n",
      "sphinxcontrib-websupport           1.1.2    \n",
      "spyder                             3.3.6    \n",
      "spyder-kernels                     0.5.2    \n",
      "SQLAlchemy                         1.3.9    \n",
      "sqlparse                           0.3.0    \n",
      "statsmodels                        0.10.1   \n",
      "sympy                              1.4      \n",
      "tables                             3.5.2    \n",
      "tblib                              1.4.0    \n",
      "terminado                          0.8.2    \n",
      "testpath                           0.4.2    \n",
      "toolz                              0.10.0   \n",
      "tornado                            6.0.3    \n",
      "tqdm                               4.36.1   \n",
      "traitlets                          4.3.3    \n",
      "unicodecsv                         0.14.1   \n",
      "urllib3                            1.24.2   \n",
      "wcwidth                            0.1.7    \n",
      "webencodings                       0.5.1    \n",
      "Werkzeug                           0.16.0   \n",
      "wheel                              0.33.6   \n",
      "widgetsnbextension                 3.5.1    \n",
      "win-inet-pton                      1.1.0    \n",
      "win-unicode-console                0.5      \n",
      "wincertstore                       0.2      \n",
      "wrapt                              1.11.2   \n",
      "xlrd                               1.2.0    \n",
      "XlsxWriter                         1.2.1    \n",
      "xlwings                            0.15.10  \n",
      "xlwt                               1.3.0    \n",
      "zict                               1.0.0    \n",
      "zipp                               0.6.0    \n",
      "Note: you may need to restart the kernel to use updated packages.\n"
     ]
    }
   ],
   "source": [
    "pip list\n"
   ]
  },
  {
   "cell_type": "code",
   "execution_count": 1,
   "metadata": {},
   "outputs": [],
   "source": [
    "import numpy as np"
   ]
  },
  {
   "cell_type": "code",
   "execution_count": 2,
   "metadata": {},
   "outputs": [
    {
     "name": "stdout",
     "output_type": "stream",
     "text": [
      "Note: you may need to restart the kernel to use updated packages.\n"
     ]
    }
   ],
   "source": [
    "pip show np"
   ]
  },
  {
   "cell_type": "markdown",
   "metadata": {},
   "source": [
    "# 1. Using np.array method \n",
    "- Ordered collection of elements of basic data types of given length\n",
    "- Syntax: numpy.array(object)"
   ]
  },
  {
   "cell_type": "code",
   "execution_count": 3,
   "metadata": {},
   "outputs": [],
   "source": [
    "a1=np.array([1,2,3,4,5])"
   ]
  },
  {
   "cell_type": "code",
   "execution_count": 4,
   "metadata": {},
   "outputs": [
    {
     "name": "stdout",
     "output_type": "stream",
     "text": [
      "[1 2 3 4 5]\n"
     ]
    }
   ],
   "source": [
    "print(a1)"
   ]
  },
  {
   "cell_type": "code",
   "execution_count": 5,
   "metadata": {},
   "outputs": [
    {
     "data": {
      "text/plain": [
       "numpy.ndarray"
      ]
     },
     "execution_count": 5,
     "metadata": {},
     "output_type": "execute_result"
    }
   ],
   "source": [
    "type(a1)"
   ]
  },
  {
   "cell_type": "code",
   "execution_count": 6,
   "metadata": {},
   "outputs": [
    {
     "name": "stdout",
     "output_type": "stream",
     "text": [
      "int32\n"
     ]
    }
   ],
   "source": [
    "print(a1.dtype)"
   ]
  },
  {
   "cell_type": "code",
   "execution_count": 7,
   "metadata": {},
   "outputs": [],
   "source": [
    "a2=np.array([1,2,3,4,5,\"yogesh\"])"
   ]
  },
  {
   "cell_type": "code",
   "execution_count": 8,
   "metadata": {},
   "outputs": [
    {
     "name": "stdout",
     "output_type": "stream",
     "text": [
      "['1' '2' '3' '4' '5' 'yogesh']\n"
     ]
    }
   ],
   "source": [
    "print(a2)"
   ]
  },
  {
   "cell_type": "code",
   "execution_count": 9,
   "metadata": {},
   "outputs": [
    {
     "name": "stdout",
     "output_type": "stream",
     "text": [
      "<U11\n"
     ]
    }
   ],
   "source": [
    "print(a2.dtype)"
   ]
  },
  {
   "cell_type": "code",
   "execution_count": 10,
   "metadata": {},
   "outputs": [
    {
     "name": "stdout",
     "output_type": "stream",
     "text": [
      "<class 'numpy.str_'>\n"
     ]
    }
   ],
   "source": [
    "print(type(a2[1]))"
   ]
  },
  {
   "cell_type": "markdown",
   "metadata": {},
   "source": [
    "- Array in python is collection of diff. datatype elements \n",
    "- All elements are converted to same data type ,i.e. Conversions will be done of lower datatype elements to higher datatype element"
   ]
  },
  {
   "cell_type": "code",
   "execution_count": 11,
   "metadata": {},
   "outputs": [],
   "source": [
    "array1=np.array([1,2.3,\"Hiii\"])"
   ]
  },
  {
   "cell_type": "code",
   "execution_count": 12,
   "metadata": {},
   "outputs": [
    {
     "name": "stdout",
     "output_type": "stream",
     "text": [
      "<class 'numpy.dtype'>\n"
     ]
    }
   ],
   "source": [
    "print(type(array1.dtype))"
   ]
  },
  {
   "cell_type": "code",
   "execution_count": 13,
   "metadata": {},
   "outputs": [
    {
     "name": "stdout",
     "output_type": "stream",
     "text": [
      "<class 'numpy.str_'>\n",
      "<class 'numpy.str_'>\n",
      "<class 'numpy.str_'>\n"
     ]
    }
   ],
   "source": [
    "print(type(array1[0]))\n",
    "print(type(array1[1]))\n",
    "print(type(array1[2]))\n",
    "#print(type(array1[3]))"
   ]
  },
  {
   "cell_type": "markdown",
   "metadata": {},
   "source": [
    "# 2. Generate Array using Linespace \n",
    "- numpy.linespace()-return eqyally spaced number within the given range based on the sample number\n",
    "- Syntax: numpy.linspace(start,stop,num)\n",
    "- start -start of interval range\n",
    "- stop -end of interval range\n",
    "- num - number of sample to be generated"
   ]
  },
  {
   "cell_type": "raw",
   "metadata": {},
   "source": [
    "Create array pf 10 elemenets between 0 to 90"
   ]
  },
  {
   "cell_type": "code",
   "execution_count": 14,
   "metadata": {},
   "outputs": [
    {
     "name": "stdout",
     "output_type": "stream",
     "text": [
      "[ 0. 10. 20. 30. 40. 50. 60. 70. 80. 90.]\n"
     ]
    }
   ],
   "source": [
    "a=np.linspace(0,90,10)\n",
    "print(a)"
   ]
  },
  {
   "cell_type": "code",
   "execution_count": 15,
   "metadata": {},
   "outputs": [
    {
     "name": "stdout",
     "output_type": "stream",
     "text": [
      "(array([ 0., 10., 20., 30., 40., 50., 60., 70., 80., 90.]), 10.0)\n"
     ]
    }
   ],
   "source": [
    "a=np.linspace(0,90,10,retstep=True)\n",
    "print(a)"
   ]
  },
  {
   "cell_type": "code",
   "execution_count": 16,
   "metadata": {},
   "outputs": [
    {
     "name": "stdout",
     "output_type": "stream",
     "text": [
      "(array([200., 225., 250., 275., 300.]), 25.0)\n"
     ]
    }
   ],
   "source": [
    "#Create array pf 5 elemenets between 200 to 300\n",
    "a2=np.linspace(200,300,5,retstep=True)\n",
    "print(a2)"
   ]
  },
  {
   "cell_type": "markdown",
   "metadata": {},
   "source": [
    "# 3. Generate Array using arange() \n",
    "- numpy.arange()-return eqyally spaced number within the given range based on the sample number\n",
    "- Syntax: numpy.linspace(start,stop,step)\n",
    "- start -start of interval range\n",
    "- stop -end of interval range\n",
    "- step - step size of interval"
   ]
  },
  {
   "cell_type": "code",
   "execution_count": 17,
   "metadata": {},
   "outputs": [],
   "source": [
    "aa=np.arange(0,20)"
   ]
  },
  {
   "cell_type": "code",
   "execution_count": 18,
   "metadata": {},
   "outputs": [
    {
     "name": "stdout",
     "output_type": "stream",
     "text": [
      "[ 0  1  2  3  4  5  6  7  8  9 10 11 12 13 14 15 16 17 18 19]\n"
     ]
    }
   ],
   "source": [
    "print(aa)"
   ]
  },
  {
   "cell_type": "code",
   "execution_count": 19,
   "metadata": {},
   "outputs": [
    {
     "name": "stdout",
     "output_type": "stream",
     "text": [
      "[ 0  2  4  6  8 10 12 14 16 18]\n"
     ]
    }
   ],
   "source": [
    "a1a=np.arange(0,20,2)\n",
    "print(a1a)"
   ]
  },
  {
   "cell_type": "code",
   "execution_count": 20,
   "metadata": {},
   "outputs": [],
   "source": [
    "# create array from 70 to 50 with 5 diff.\n",
    "a11=np.arange(70,50,-5)"
   ]
  },
  {
   "cell_type": "code",
   "execution_count": 21,
   "metadata": {},
   "outputs": [
    {
     "name": "stdout",
     "output_type": "stream",
     "text": [
      "[70 65 60 55]\n"
     ]
    }
   ],
   "source": [
    "print(a11)"
   ]
  },
  {
   "cell_type": "markdown",
   "metadata": {},
   "source": [
    "# 4. Generate Array using ones() \n",
    "- numpy.ones()- returns an array of given shape and typpe filled with ones\n",
    "- Syntax - numpy.ones(shape.dtype)\n",
    "- shape- integer or sequence of intergers\n",
    "- dtype- data type(default:float)\n"
   ]
  },
  {
   "cell_type": "code",
   "execution_count": 22,
   "metadata": {},
   "outputs": [
    {
     "name": "stdout",
     "output_type": "stream",
     "text": [
      "[['1' '1' '1' '1' '1' '1' '1']\n",
      " ['1' '1' '1' '1' '1' '1' '1']\n",
      " ['1' '1' '1' '1' '1' '1' '1']\n",
      " ['1' '1' '1' '1' '1' '1' '1']\n",
      " ['1' '1' '1' '1' '1' '1' '1']\n",
      " ['1' '1' '1' '1' '1' '1' '1']]\n",
      "<class 'numpy.str_'>\n"
     ]
    }
   ],
   "source": [
    "a4=np.ones((6,7),str)\n",
    "print(a4)\n",
    "print(type(a4[2][2]))"
   ]
  },
  {
   "cell_type": "markdown",
   "metadata": {},
   "source": [
    "# 5. Generate Array using zeros() \n",
    "- numpy.zeros()- returns an array of given shape and typpe filled with zeroes\n",
    "- Syntax - numpy.zeros(shape.dtype)\n",
    "- shape - integer or sequence of intergers\n",
    "- dtype - data type(default:float)\n"
   ]
  },
  {
   "cell_type": "code",
   "execution_count": 23,
   "metadata": {},
   "outputs": [
    {
     "name": "stdout",
     "output_type": "stream",
     "text": [
      "[[0. 0. 0. 0. 0.]\n",
      " [0. 0. 0. 0. 0.]\n",
      " [0. 0. 0. 0. 0.]\n",
      " [0. 0. 0. 0. 0.]\n",
      " [0. 0. 0. 0. 0.]]\n"
     ]
    }
   ],
   "source": [
    "a5=np.zeros((5,5))\n",
    "print(a5)"
   ]
  },
  {
   "cell_type": "markdown",
   "metadata": {},
   "source": [
    "# 6. Generate Array using random.rand() \n",
    "- numpy.random.rand()- returns an array of given \n",
    "- Syntax - numpy.random.rand(shape)\n",
    "- shape - integer or sequence of intergers\n",
    "- dtype - data type(default:float)\n"
   ]
  },
  {
   "cell_type": "code",
   "execution_count": 24,
   "metadata": {},
   "outputs": [
    {
     "name": "stdout",
     "output_type": "stream",
     "text": [
      "[]\n"
     ]
    }
   ],
   "source": [
    "# create 1D array of 5 random elements between 0 to 1 \n",
    "a6=np.random.rand(0,1,5)\n",
    "print(a6)"
   ]
  },
  {
   "cell_type": "code",
   "execution_count": 25,
   "metadata": {},
   "outputs": [
    {
     "name": "stdout",
     "output_type": "stream",
     "text": [
      "[[ 75 128  99 126  41]\n",
      " [ 73 101  34 111  37]\n",
      " [ 84  34  20  88  58]\n",
      " [ 43 101  24  84  52]\n",
      " [142 136  81 121  76]\n",
      " [ 20 115 148  46 114]\n",
      " [ 86  65 109  67 124]]\n"
     ]
    }
   ],
   "source": [
    "# create 1D array of35 random elements between 200 to 150 \n",
    "a7=np.random.randint(20,150,(7,5))\n",
    "print(a7)"
   ]
  },
  {
   "cell_type": "code",
   "execution_count": 26,
   "metadata": {},
   "outputs": [
    {
     "data": {
      "text/plain": [
       "(7, 5)"
      ]
     },
     "execution_count": 26,
     "metadata": {},
     "output_type": "execute_result"
    }
   ],
   "source": [
    "a7.shape"
   ]
  },
  {
   "cell_type": "code",
   "execution_count": 27,
   "metadata": {},
   "outputs": [
    {
     "name": "stdout",
     "output_type": "stream",
     "text": [
      "[128  25 149]\n"
     ]
    }
   ],
   "source": [
    "a8=np.random.randint(20,150,(3))\n",
    "print(a8)"
   ]
  },
  {
   "cell_type": "code",
   "execution_count": 28,
   "metadata": {},
   "outputs": [
    {
     "data": {
      "text/plain": [
       "(3,)"
      ]
     },
     "execution_count": 28,
     "metadata": {},
     "output_type": "execute_result"
    }
   ],
   "source": [
    "a8.shape"
   ]
  },
  {
   "cell_type": "markdown",
   "metadata": {},
   "source": [
    "# 7. Generate array using logspace()\n",
    "- numpy.logspace() - returns equally spaced numbers based on log scale\n",
    "- Syntax - numpy.logspace(start,stop,num,endpoint,base,dtype)\n",
    "- start, stop\n",
    "- num - number of sampler to genrate (default:50)\n",
    "- endpoint - if true ,stop is last sample\n",
    "- base- basee of the log space (default:10.0)\n",
    "- dtype- type of output array\n",
    "- Generate Array of 5 sample with base 10"
   ]
  },
  {
   "cell_type": "code",
   "execution_count": 29,
   "metadata": {},
   "outputs": [
    {
     "name": "stdout",
     "output_type": "stream",
     "text": [
      "[1.00000000e+01 1.77827941e+03 3.16227766e+05 5.62341325e+07\n",
      " 1.00000000e+10]\n"
     ]
    }
   ],
   "source": [
    "a11=np.logspace(1,10,5,True,10)\n",
    "print(a11)"
   ]
  },
  {
   "cell_type": "markdown",
   "metadata": {},
   "source": [
    "# Advantages of array \n",
    "1. Speed - Array is faster than list\n",
    "2. Memory Storage- Array takes less memory than list"
   ]
  },
  {
   "cell_type": "code",
   "execution_count": 30,
   "metadata": {},
   "outputs": [],
   "source": [
    "import time "
   ]
  },
  {
   "cell_type": "code",
   "execution_count": 31,
   "metadata": {},
   "outputs": [
    {
     "name": "stdout",
     "output_type": "stream",
     "text": [
      "0.001003265380859375\n"
     ]
    }
   ],
   "source": [
    "start= time.time()\n",
    "py_list=[i for i in range (100)]\n",
    "py_list=[i+2 for i in py_list]\n",
    "stop=time.time()\n",
    "print(stop-start)"
   ]
  },
  {
   "cell_type": "code",
   "execution_count": 32,
   "metadata": {},
   "outputs": [
    {
     "name": "stdout",
     "output_type": "stream",
     "text": [
      "[[1 2 3 4]\n",
      " [2 3 4 5]]\n"
     ]
    }
   ],
   "source": [
    "ar=np.array([[1,2,3,4],[2,3,4,5]])\n",
    "print(ar)"
   ]
  },
  {
   "cell_type": "markdown",
   "metadata": {},
   "source": [
    "reshape - We can change shape of array"
   ]
  },
  {
   "cell_type": "code",
   "execution_count": 33,
   "metadata": {},
   "outputs": [
    {
     "name": "stdout",
     "output_type": "stream",
     "text": [
      "[[1 2 3 4]\n",
      " [2 3 4 5]]\n",
      "(2, 4)\n",
      "[[1 2]\n",
      " [3 4]\n",
      " [2 3]\n",
      " [4 5]]\n"
     ]
    },
    {
     "data": {
      "text/plain": [
       "(4, 2)"
      ]
     },
     "execution_count": 33,
     "metadata": {},
     "output_type": "execute_result"
    }
   ],
   "source": [
    "ar=np.array([[1,2,3,4],[2,3,4,5]])\n",
    "print(ar)\n",
    "print(ar.shape)\n",
    "b=ar.reshape(4,2)\n",
    "print(b)\n",
    "b.shape"
   ]
  },
  {
   "cell_type": "code",
   "execution_count": 55,
   "metadata": {},
   "outputs": [],
   "source": [
    "c=np.array([[1,2,3],[3,4,5]])"
   ]
  },
  {
   "cell_type": "code",
   "execution_count": 56,
   "metadata": {},
   "outputs": [
    {
     "name": "stdout",
     "output_type": "stream",
     "text": [
      "[[1 2 3]\n",
      " [3 4 5]]\n"
     ]
    }
   ],
   "source": [
    "print(c)"
   ]
  },
  {
   "cell_type": "code",
   "execution_count": 72,
   "metadata": {},
   "outputs": [
    {
     "name": "stdout",
     "output_type": "stream",
     "text": [
      "[[1 2]\n",
      " [3 3]\n",
      " [4 5]]\n"
     ]
    }
   ],
   "source": [
    "print(c.reshape(3,2))"
   ]
  },
  {
   "cell_type": "code",
   "execution_count": 70,
   "metadata": {},
   "outputs": [
    {
     "name": "stdout",
     "output_type": "stream",
     "text": [
      "[[1 2]\n",
      " [3 3]\n",
      " [4 5]]\n"
     ]
    }
   ],
   "source": [
    "b=c.reshape(3,2)\n",
    "print(b)"
   ]
  },
  {
   "cell_type": "code",
   "execution_count": 74,
   "metadata": {},
   "outputs": [
    {
     "name": "stdout",
     "output_type": "stream",
     "text": [
      "[ 8 10]\n"
     ]
    }
   ],
   "source": [
    "print(np.sum(b,axis=0))"
   ]
  },
  {
   "cell_type": "code",
   "execution_count": 102,
   "metadata": {},
   "outputs": [
    {
     "data": {
      "text/plain": [
       "array([[1, 2, 3],\n",
       "       [2, 3, 4]])"
      ]
     },
     "execution_count": 102,
     "metadata": {},
     "output_type": "execute_result"
    }
   ],
   "source": [
    "a1\n"
   ]
  },
  {
   "cell_type": "code",
   "execution_count": 103,
   "metadata": {},
   "outputs": [
    {
     "data": {
      "text/plain": [
       "array([[3, 2, 1],\n",
       "       [2, 3, 4]])"
      ]
     },
     "execution_count": 103,
     "metadata": {},
     "output_type": "execute_result"
    }
   ],
   "source": [
    "a2"
   ]
  },
  {
   "cell_type": "code",
   "execution_count": 85,
   "metadata": {},
   "outputs": [
    {
     "name": "stdout",
     "output_type": "stream",
     "text": [
      "Addition= [[2 4 6]\n",
      " [4 6 8]]\n"
     ]
    }
   ],
   "source": [
    "a1=np.array([[1,2,3],[2,3,4]])\n",
    "a2=np.array([[1,2,3],[2,3,4]])\n",
    "print(\"Addition=\", np.add(a1,a2))"
   ]
  },
  {
   "cell_type": "code",
   "execution_count": 89,
   "metadata": {},
   "outputs": [
    {
     "name": "stdout",
     "output_type": "stream",
     "text": [
      "Addition= [[0 0 0]\n",
      " [0 0 0]]\n"
     ]
    }
   ],
   "source": [
    "a1=np.array([[1,2,3],[2,3,4]])\n",
    "a2=np.array([[1,2,3],[2,3,4]])\n",
    "print(\"subtract=\", np.subtract(a1,a2))"
   ]
  },
  {
   "cell_type": "code",
   "execution_count": 91,
   "metadata": {},
   "outputs": [
    {
     "name": "stdout",
     "output_type": "stream",
     "text": [
      "Addition= [[2 4 6]\n",
      " [3 5 7]]\n"
     ]
    }
   ],
   "source": [
    "a1=np.array([[1,2,3],[2,3,4]])\n",
    "a2=np.array([[1,2,3],[1,2,3]])\n",
    "print(\"Addition=\", np.add(a1,a2))"
   ]
  },
  {
   "cell_type": "code",
   "execution_count": 97,
   "metadata": {},
   "outputs": [
    {
     "name": "stdout",
     "output_type": "stream",
     "text": [
      "Addition= [[ 3  4  3]\n",
      " [ 4  9 16]]\n"
     ]
    }
   ],
   "source": [
    "a1=np.array([[1,2,3],[2,3,4]])\n",
    "a2=np.array([[3,2,1],[2,3,4]])\n",
    "print(\"Multiply=\", np.multiply(a1,a2))"
   ]
  },
  {
   "cell_type": "code",
   "execution_count": 98,
   "metadata": {},
   "outputs": [
    {
     "name": "stdout",
     "output_type": "stream",
     "text": [
      "Multiply= [[0.33333333 1.         3.        ]\n",
      " [1.         1.         1.        ]]\n"
     ]
    }
   ],
   "source": [
    "a1=np.array([[1,2,3],[2,3,4]])\n",
    "a2=np.array([[3,2,1],[2,3,4]])\n",
    "print(\"Divide=\", np.divide(a1,a2))"
   ]
  },
  {
   "cell_type": "code",
   "execution_count": 105,
   "metadata": {},
   "outputs": [
    {
     "data": {
      "text/plain": [
       "array([[1, 2],\n",
       "       [2, 3],\n",
       "       [3, 4]])"
      ]
     },
     "execution_count": 105,
     "metadata": {},
     "output_type": "execute_result"
    }
   ],
   "source": [
    "np.transpose(a1)"
   ]
  },
  {
   "cell_type": "code",
   "execution_count": 108,
   "metadata": {},
   "outputs": [],
   "source": [
    "a3=np.array([[1,2,3,4],[2,3,4,5],[3,4,5,6],[4,5,6,7]])"
   ]
  },
  {
   "cell_type": "code",
   "execution_count": 109,
   "metadata": {},
   "outputs": [
    {
     "data": {
      "text/plain": [
       "array([[1, 2, 3, 4],\n",
       "       [2, 3, 4, 5],\n",
       "       [3, 4, 5, 6],\n",
       "       [4, 5, 6, 7]])"
      ]
     },
     "execution_count": 109,
     "metadata": {},
     "output_type": "execute_result"
    }
   ],
   "source": [
    "a3\n"
   ]
  },
  {
   "cell_type": "code",
   "execution_count": 110,
   "metadata": {},
   "outputs": [],
   "source": [
    "a4=a3[1:4,:]"
   ]
  },
  {
   "cell_type": "code",
   "execution_count": 111,
   "metadata": {},
   "outputs": [
    {
     "data": {
      "text/plain": [
       "array([[2, 3, 4, 5],\n",
       "       [3, 4, 5, 6],\n",
       "       [4, 5, 6, 7]])"
      ]
     },
     "execution_count": 111,
     "metadata": {},
     "output_type": "execute_result"
    }
   ],
   "source": [
    "a4"
   ]
  },
  {
   "cell_type": "code",
   "execution_count": 133,
   "metadata": {},
   "outputs": [],
   "source": [
    "p=np.array([[1,2,3,4]])\n"
   ]
  },
  {
   "cell_type": "code",
   "execution_count": 130,
   "metadata": {},
   "outputs": [
    {
     "data": {
      "text/plain": [
       "array([[2, 3, 4, 5],\n",
       "       [3, 4, 5, 6],\n",
       "       [4, 5, 6, 7]])"
      ]
     },
     "execution_count": 130,
     "metadata": {},
     "output_type": "execute_result"
    }
   ],
   "source": [
    "a4"
   ]
  },
  {
   "cell_type": "code",
   "execution_count": 135,
   "metadata": {},
   "outputs": [
    {
     "ename": "ValueError",
     "evalue": "all the input array dimensions except for the concatenation axis must match exactly",
     "output_type": "error",
     "traceback": [
      "\u001b[1;31m---------------------------------------------------------------------------\u001b[0m",
      "\u001b[1;31mValueError\u001b[0m                                Traceback (most recent call last)",
      "\u001b[1;32m<ipython-input-135-da67ce15c284>\u001b[0m in \u001b[0;36m<module>\u001b[1;34m\u001b[0m\n\u001b[1;32m----> 1\u001b[1;33m \u001b[0ma5\u001b[0m\u001b[1;33m=\u001b[0m\u001b[0mnp\u001b[0m\u001b[1;33m.\u001b[0m\u001b[0mappend\u001b[0m\u001b[1;33m(\u001b[0m\u001b[0mz\u001b[0m\u001b[1;33m,\u001b[0m\u001b[0ma4\u001b[0m\u001b[1;33m,\u001b[0m\u001b[0maxis\u001b[0m\u001b[1;33m=\u001b[0m\u001b[1;36m1\u001b[0m\u001b[1;33m)\u001b[0m\u001b[1;33m\u001b[0m\u001b[1;33m\u001b[0m\u001b[0m\n\u001b[0m",
      "\u001b[1;32mC:\\ProgramData\\Anaconda3\\lib\\site-packages\\numpy\\lib\\function_base.py\u001b[0m in \u001b[0;36mappend\u001b[1;34m(arr, values, axis)\u001b[0m\n\u001b[0;32m   4692\u001b[0m         \u001b[0mvalues\u001b[0m \u001b[1;33m=\u001b[0m \u001b[0mravel\u001b[0m\u001b[1;33m(\u001b[0m\u001b[0mvalues\u001b[0m\u001b[1;33m)\u001b[0m\u001b[1;33m\u001b[0m\u001b[1;33m\u001b[0m\u001b[0m\n\u001b[0;32m   4693\u001b[0m         \u001b[0maxis\u001b[0m \u001b[1;33m=\u001b[0m \u001b[0marr\u001b[0m\u001b[1;33m.\u001b[0m\u001b[0mndim\u001b[0m\u001b[1;33m-\u001b[0m\u001b[1;36m1\u001b[0m\u001b[1;33m\u001b[0m\u001b[1;33m\u001b[0m\u001b[0m\n\u001b[1;32m-> 4694\u001b[1;33m     \u001b[1;32mreturn\u001b[0m \u001b[0mconcatenate\u001b[0m\u001b[1;33m(\u001b[0m\u001b[1;33m(\u001b[0m\u001b[0marr\u001b[0m\u001b[1;33m,\u001b[0m \u001b[0mvalues\u001b[0m\u001b[1;33m)\u001b[0m\u001b[1;33m,\u001b[0m \u001b[0maxis\u001b[0m\u001b[1;33m=\u001b[0m\u001b[0maxis\u001b[0m\u001b[1;33m)\u001b[0m\u001b[1;33m\u001b[0m\u001b[1;33m\u001b[0m\u001b[0m\n\u001b[0m\u001b[0;32m   4695\u001b[0m \u001b[1;33m\u001b[0m\u001b[0m\n\u001b[0;32m   4696\u001b[0m \u001b[1;33m\u001b[0m\u001b[0m\n",
      "\u001b[1;31mValueError\u001b[0m: all the input array dimensions except for the concatenation axis must match exactly"
     ]
    }
   ],
   "source": [
    "a5=np.append(z,a4,axis=1)"
   ]
  },
  {
   "cell_type": "code",
   "execution_count": 129,
   "metadata": {},
   "outputs": [
    {
     "data": {
      "text/plain": [
       "array([[1, 1, 2, 3, 4],\n",
       "       [2, 2, 3, 4, 5],\n",
       "       [3, 3, 4, 5, 6],\n",
       "       [4, 4, 5, 6, 7]])"
      ]
     },
     "execution_count": 129,
     "metadata": {},
     "output_type": "execute_result"
    }
   ],
   "source": [
    "a5"
   ]
  },
  {
   "cell_type": "markdown",
   "metadata": {},
   "source": [
    "# Matrix\n",
    "- Rectangular arrangement of number which will have rows and columns\n"
   ]
  },
  {
   "cell_type": "code",
   "execution_count": 139,
   "metadata": {},
   "outputs": [],
   "source": [
    "mat1=np.matrix(\"1,2,3;1,2,3;1,2,3\")"
   ]
  },
  {
   "cell_type": "code",
   "execution_count": 140,
   "metadata": {},
   "outputs": [
    {
     "data": {
      "text/plain": [
       "matrix([[1, 2, 3],\n",
       "        [1, 2, 3],\n",
       "        [1, 2, 3]])"
      ]
     },
     "execution_count": 140,
     "metadata": {},
     "output_type": "execute_result"
    }
   ],
   "source": [
    "mat1"
   ]
  },
  {
   "cell_type": "code",
   "execution_count": 141,
   "metadata": {},
   "outputs": [
    {
     "data": {
      "text/plain": [
       "9"
      ]
     },
     "execution_count": 141,
     "metadata": {},
     "output_type": "execute_result"
    }
   ],
   "source": [
    "mat1.size"
   ]
  },
  {
   "cell_type": "code",
   "execution_count": 148,
   "metadata": {},
   "outputs": [],
   "source": [
    "mat2=np.matrix(\"1,2,4;1,3,4;2,3,4\")"
   ]
  },
  {
   "cell_type": "code",
   "execution_count": 149,
   "metadata": {},
   "outputs": [
    {
     "data": {
      "text/plain": [
       "matrix([[1, 2, 4],\n",
       "        [1, 3, 4],\n",
       "        [2, 3, 4]])"
      ]
     },
     "execution_count": 149,
     "metadata": {},
     "output_type": "execute_result"
    }
   ],
   "source": [
    "mat2\n"
   ]
  },
  {
   "cell_type": "code",
   "execution_count": null,
   "metadata": {},
   "outputs": [],
   "source": [
    "# this will give multiplication according to maths rule"
   ]
  },
  {
   "cell_type": "code",
   "execution_count": 150,
   "metadata": {},
   "outputs": [],
   "source": [
    "mat3=np.dot(mat1,mat2)"
   ]
  },
  {
   "cell_type": "code",
   "execution_count": 151,
   "metadata": {},
   "outputs": [
    {
     "data": {
      "text/plain": [
       "matrix([[ 9, 17, 24],\n",
       "        [ 9, 17, 24],\n",
       "        [ 9, 17, 24]])"
      ]
     },
     "execution_count": 151,
     "metadata": {},
     "output_type": "execute_result"
    }
   ],
   "source": [
    "mat3"
   ]
  },
  {
   "cell_type": "code",
   "execution_count": null,
   "metadata": {},
   "outputs": [],
   "source": [
    "# Thiswill gives multiplication as value"
   ]
  },
  {
   "cell_type": "code",
   "execution_count": 152,
   "metadata": {},
   "outputs": [],
   "source": [
    "mat4=np.multiply(mat1,mat2)"
   ]
  },
  {
   "cell_type": "code",
   "execution_count": 153,
   "metadata": {},
   "outputs": [
    {
     "data": {
      "text/plain": [
       "matrix([[ 1,  4, 12],\n",
       "        [ 1,  6, 12],\n",
       "        [ 2,  6, 12]])"
      ]
     },
     "execution_count": 153,
     "metadata": {},
     "output_type": "execute_result"
    }
   ],
   "source": [
    "mat4"
   ]
  },
  {
   "cell_type": "code",
   "execution_count": 154,
   "metadata": {},
   "outputs": [
    {
     "data": {
      "text/plain": [
       "matrix([[0, 0, 3],\n",
       "        [0, 2, 3],\n",
       "        [1, 2, 3]], dtype=int32)"
      ]
     },
     "execution_count": 154,
     "metadata": {},
     "output_type": "execute_result"
    }
   ],
   "source": [
    "np.remainder(mat1,mat2)"
   ]
  },
  {
   "cell_type": "markdown",
   "metadata": {},
   "source": [
    "# Linear Algebra"
   ]
  },
  {
   "cell_type": "code",
   "execution_count": 155,
   "metadata": {},
   "outputs": [
    {
     "data": {
      "text/plain": [
       "matrix([[1, 2, 3],\n",
       "        [1, 2, 3],\n",
       "        [1, 2, 3]])"
      ]
     },
     "execution_count": 155,
     "metadata": {},
     "output_type": "execute_result"
    }
   ],
   "source": [
    "mat1"
   ]
  },
  {
   "cell_type": "code",
   "execution_count": 156,
   "metadata": {},
   "outputs": [
    {
     "data": {
      "text/plain": [
       "matrix([[1, 2, 4],\n",
       "        [1, 3, 4],\n",
       "        [2, 3, 4]])"
      ]
     },
     "execution_count": 156,
     "metadata": {},
     "output_type": "execute_result"
    }
   ],
   "source": [
    "mat2"
   ]
  },
  {
   "cell_type": "code",
   "execution_count": 162,
   "metadata": {},
   "outputs": [],
   "source": [
    "m3=np.matrix(\"2,2;1,3\")"
   ]
  },
  {
   "cell_type": "code",
   "execution_count": 163,
   "metadata": {},
   "outputs": [
    {
     "data": {
      "text/plain": [
       "matrix([[2, 2],\n",
       "        [1, 3]])"
      ]
     },
     "execution_count": 163,
     "metadata": {},
     "output_type": "execute_result"
    }
   ],
   "source": [
    "m3"
   ]
  },
  {
   "cell_type": "code",
   "execution_count": 164,
   "metadata": {},
   "outputs": [],
   "source": [
    "det=np.linalg.det(m3)"
   ]
  },
  {
   "cell_type": "code",
   "execution_count": 165,
   "metadata": {},
   "outputs": [
    {
     "data": {
      "text/plain": [
       "4.0"
      ]
     },
     "execution_count": 165,
     "metadata": {},
     "output_type": "execute_result"
    }
   ],
   "source": [
    "det"
   ]
  },
  {
   "cell_type": "code",
   "execution_count": 166,
   "metadata": {},
   "outputs": [],
   "source": [
    "rank_mat=np.linalg.matrix_rank(m3)"
   ]
  },
  {
   "cell_type": "code",
   "execution_count": 167,
   "metadata": {},
   "outputs": [
    {
     "data": {
      "text/plain": [
       "2"
      ]
     },
     "execution_count": 167,
     "metadata": {},
     "output_type": "execute_result"
    }
   ],
   "source": [
    "rank_mat"
   ]
  },
  {
   "cell_type": "code",
   "execution_count": 168,
   "metadata": {},
   "outputs": [],
   "source": [
    "# Inverse of matrix\n"
   ]
  },
  {
   "cell_type": "code",
   "execution_count": 169,
   "metadata": {},
   "outputs": [
    {
     "data": {
      "text/plain": [
       "matrix([[1, 2, 3],\n",
       "        [1, 2, 3],\n",
       "        [1, 2, 3]])"
      ]
     },
     "execution_count": 169,
     "metadata": {},
     "output_type": "execute_result"
    }
   ],
   "source": [
    "mat1"
   ]
  },
  {
   "cell_type": "code",
   "execution_count": 172,
   "metadata": {},
   "outputs": [
    {
     "data": {
      "text/plain": [
       "matrix([[ 0.75, -0.5 ],\n",
       "        [-0.25,  0.5 ]])"
      ]
     },
     "execution_count": 172,
     "metadata": {},
     "output_type": "execute_result"
    }
   ],
   "source": [
    "m3_inv=np.linalg.inv(m3)\n",
    "m3_inv"
   ]
  },
  {
   "cell_type": "code",
   "execution_count": 178,
   "metadata": {},
   "outputs": [],
   "source": [
    "# Linear Eq.\n",
    "A=np.matrix(\"3,1,2;3,2,5;6,7,8\")\n",
    "B=np.matrix(\"2;-1;3\")"
   ]
  },
  {
   "cell_type": "code",
   "execution_count": 179,
   "metadata": {},
   "outputs": [
    {
     "name": "stdout",
     "output_type": "stream",
     "text": [
      "[[3 1 2]\n",
      " [3 2 5]\n",
      " [6 7 8]]\n",
      "[[ 2]\n",
      " [-1]\n",
      " [ 3]]\n"
     ]
    }
   ],
   "source": [
    "print(A)\n",
    "print(B)"
   ]
  },
  {
   "cell_type": "code",
   "execution_count": 180,
   "metadata": {},
   "outputs": [],
   "source": [
    "result=np.linalg.solve(A,B)"
   ]
  },
  {
   "cell_type": "code",
   "execution_count": 181,
   "metadata": {},
   "outputs": [
    {
     "data": {
      "text/plain": [
       "matrix([[ 1.24242424],\n",
       "        [ 0.81818182],\n",
       "        [-1.27272727]])"
      ]
     },
     "execution_count": 181,
     "metadata": {},
     "output_type": "execute_result"
    }
   ],
   "source": [
    "result"
   ]
  },
  {
   "cell_type": "code",
   "execution_count": null,
   "metadata": {},
   "outputs": [],
   "source": []
  }
 ],
 "metadata": {
  "kernelspec": {
   "display_name": "Python 3",
   "language": "python",
   "name": "python3"
  },
  "language_info": {
   "codemirror_mode": {
    "name": "ipython",
    "version": 3
   },
   "file_extension": ".py",
   "mimetype": "text/x-python",
   "name": "python",
   "nbconvert_exporter": "python",
   "pygments_lexer": "ipython3",
   "version": "3.7.4"
  }
 },
 "nbformat": 4,
 "nbformat_minor": 2
}
