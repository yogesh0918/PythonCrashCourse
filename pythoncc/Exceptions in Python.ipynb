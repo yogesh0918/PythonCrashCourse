{
 "cells": [
  {
   "cell_type": "code",
   "execution_count": 2,
   "metadata": {},
   "outputs": [],
   "source": [
    "import math"
   ]
  },
  {
   "cell_type": "markdown",
   "metadata": {},
   "source": [
    "- In python there are 3 types of errors\n",
    "- Syntax Error\n",
    "- Logical Error\n",
    "- Run Time Error (Exceptions)"
   ]
  },
  {
   "cell_type": "code",
   "execution_count": 4,
   "metadata": {},
   "outputs": [
    {
     "ename": "ValueError",
     "evalue": "math domain error",
     "output_type": "error",
     "traceback": [
      "\u001b[1;31m---------------------------------------------------------------------------\u001b[0m",
      "\u001b[1;31mValueError\u001b[0m                                Traceback (most recent call last)",
      "\u001b[1;32m<ipython-input-4-bd96441ed035>\u001b[0m in \u001b[0;36m<module>\u001b[1;34m\u001b[0m\n\u001b[1;32m----> 1\u001b[1;33m \u001b[0mprint\u001b[0m\u001b[1;33m(\u001b[0m\u001b[0mmath\u001b[0m\u001b[1;33m.\u001b[0m\u001b[0msqrt\u001b[0m\u001b[1;33m(\u001b[0m\u001b[1;33m-\u001b[0m\u001b[1;36m25\u001b[0m\u001b[1;33m)\u001b[0m\u001b[1;33m)\u001b[0m\u001b[1;33m\u001b[0m\u001b[1;33m\u001b[0m\u001b[0m\n\u001b[0m",
      "\u001b[1;31mValueError\u001b[0m: math domain error"
     ]
    }
   ],
   "source": [
    "\n",
    "print(math.sqrt(-25))"
   ]
  },
  {
   "cell_type": "markdown",
   "metadata": {},
   "source": [
    "### This are keys use for exceptional handling\n",
    "- try\n",
    "- except\n",
    "- raise\n",
    "- else \n",
    "- finally"
   ]
  },
  {
   "cell_type": "markdown",
   "metadata": {},
   "source": [
    "   ### try\n",
    "- In try block we have to write a code which will generate errors\n",
    "### except\n",
    "- If error is going to generate then to solve (print) error except used\n"
   ]
  },
  {
   "cell_type": "code",
   "execution_count": 9,
   "metadata": {},
   "outputs": [
    {
     "name": "stdout",
     "output_type": "stream",
     "text": [
      "Enter no. to sq. root:-16\n",
      "Enter positive No..... Sq. of negative no is not calculatde\n"
     ]
    }
   ],
   "source": [
    "try:\n",
    "    n=int(input(\"Enter no. to sq. root:\"))\n",
    "    print(math.sqrt(n))\n",
    "except:\n",
    "    print(\"Enter positive No..... Sq. of negative no is not calculatde\")"
   ]
  },
  {
   "cell_type": "code",
   "execution_count": 15,
   "metadata": {},
   "outputs": [
    {
     "name": "stdout",
     "output_type": "stream",
     "text": [
      "Variable doesn't have value\n"
     ]
    }
   ],
   "source": [
    "try:\n",
    "    print(y)\n",
    "except:\n",
    "    print(\"Variable doesn't have value\")"
   ]
  },
  {
   "cell_type": "code",
   "execution_count": 16,
   "metadata": {},
   "outputs": [
    {
     "name": "stdout",
     "output_type": "stream",
     "text": [
      "Variable doesn't have value\n"
     ]
    }
   ],
   "source": [
    "try:\n",
    "    print(y)\n",
    "except NameError:\n",
    "    print(\"Variable doesn't have value\")"
   ]
  },
  {
   "cell_type": "code",
   "execution_count": 4,
   "metadata": {},
   "outputs": [
    {
     "name": "stdout",
     "output_type": "stream",
     "text": [
      "Enter a index8\n",
      "Enter index between 0 to 3\n"
     ]
    }
   ],
   "source": [
    "\n",
    "try:\n",
    "    i=int(input(\"Enter a index\"))\n",
    "    l=['a','s','f','t']\n",
    "    print(l[i])\n",
    "except:\n",
    "    print(\"Enter index between 0 to\",len(l)-1)"
   ]
  },
  {
   "cell_type": "markdown",
   "metadata": {},
   "source": [
    "## Else block in try except\n",
    "- Else block is excuted when exception are not generated "
   ]
  },
  {
   "cell_type": "code",
   "execution_count": 8,
   "metadata": {},
   "outputs": [
    {
     "name": "stdout",
     "output_type": "stream",
     "text": [
      "Enter a index3\n",
      "t\n",
      "U r ri8\n"
     ]
    }
   ],
   "source": [
    "try:\n",
    "    i=int(input(\"Enter a index\"))\n",
    "    l=['a','s','f','t']\n",
    "    print(l[i])\n",
    "except:\n",
    "    print(\"Enter index between 0 to\",len(l)-1)\n",
    "else:\n",
    "    print(\"U r ri8\")"
   ]
  },
  {
   "cell_type": "code",
   "execution_count": 10,
   "metadata": {},
   "outputs": [
    {
     "name": "stdout",
     "output_type": "stream",
     "text": [
      "Module Found\n"
     ]
    }
   ],
   "source": [
    "#WAP to handle exception for Importing Unavilable module\n",
    "try :\n",
    "    import math\n",
    "except:\n",
    "    print(\"This module is not avialable in python\")\n",
    "else:\n",
    "    print(\"Module Found\")"
   ]
  },
  {
   "cell_type": "code",
   "execution_count": 11,
   "metadata": {},
   "outputs": [],
   "source": [
    "try:\n",
    "    f=open(\"Demo.txt\",\"w\")\n",
    "    f.write(\"Hiii\")\n",
    "except:\n",
    "    print(\"File not found\")\n",
    "finally:\n",
    "    f.close()"
   ]
  },
  {
   "cell_type": "code",
   "execution_count": 24,
   "metadata": {},
   "outputs": [
    {
     "name": "stdout",
     "output_type": "stream",
     "text": [
      "Enter no1:0\n",
      "Enter no 2:3\n",
      "0.0\n",
      "Exception not found\n",
      "Program excecution done\n"
     ]
    }
   ],
   "source": [
    "try:\n",
    "    n1=int(input(\"Enter no1:\"))\n",
    "    n2=int(input(\"Enter no 2:\"))\n",
    "    d=n1/n2\n",
    "    print(d)\n",
    "except TypeError:\n",
    "    print(\"Datatype should be same\")\n",
    "except ZeroDivisionError :\n",
    "    print(\"No. will not be divided by 0\")\n",
    "else:\n",
    "    print(\"Exception not found\")\n",
    "finally:\n",
    "    print(\"Program excecution done\")"
   ]
  },
  {
   "cell_type": "markdown",
   "metadata": {},
   "source": [
    "## raise keyword in exception "
   ]
  },
  {
   "cell_type": "code",
   "execution_count": 1,
   "metadata": {},
   "outputs": [
    {
     "name": "stdout",
     "output_type": "stream",
     "text": [
      "50\n",
      "49\n",
      "48\n",
      "47\n",
      "46\n",
      "45\n",
      "44\n",
      "43\n",
      "42\n",
      "41\n",
      "40\n",
      "39\n",
      "38\n",
      "37\n",
      "36\n",
      "35\n",
      "34\n",
      "33\n",
      "32\n",
      "31\n",
      "30\n",
      "29\n",
      "28\n",
      "27\n",
      "26\n",
      "25\n",
      "24\n",
      "23\n",
      "22\n",
      "21\n",
      "20\n",
      "19\n",
      "18\n",
      "17\n",
      "16\n",
      "15\n",
      "14\n",
      "13\n",
      "12\n",
      "11\n",
      "10\n",
      "9\n",
      "8\n",
      "7\n",
      "6\n",
      "5\n",
      "4\n",
      "3\n",
      "2\n",
      "1\n",
      "0\n"
     ]
    },
    {
     "ename": "Exception",
     "evalue": "No. is Negative",
     "output_type": "error",
     "traceback": [
      "\u001b[1;31m---------------------------------------------------------------------------\u001b[0m",
      "\u001b[1;31mException\u001b[0m                                 Traceback (most recent call last)",
      "\u001b[1;32m<ipython-input-1-95aa135b2018>\u001b[0m in \u001b[0;36m<module>\u001b[1;34m\u001b[0m\n\u001b[0;32m      4\u001b[0m     \u001b[0my\u001b[0m\u001b[1;33m=\u001b[0m\u001b[0my\u001b[0m\u001b[1;33m-\u001b[0m\u001b[1;36m1\u001b[0m\u001b[1;33m\u001b[0m\u001b[1;33m\u001b[0m\u001b[0m\n\u001b[0;32m      5\u001b[0m     \u001b[1;32mif\u001b[0m\u001b[1;33m(\u001b[0m\u001b[0my\u001b[0m\u001b[1;33m<\u001b[0m\u001b[1;36m0\u001b[0m\u001b[1;33m)\u001b[0m\u001b[1;33m:\u001b[0m\u001b[1;33m\u001b[0m\u001b[1;33m\u001b[0m\u001b[0m\n\u001b[1;32m----> 6\u001b[1;33m         \u001b[1;32mraise\u001b[0m \u001b[0mException\u001b[0m\u001b[1;33m(\u001b[0m\u001b[1;34m\"No. is Negative\"\u001b[0m\u001b[1;33m)\u001b[0m\u001b[1;33m\u001b[0m\u001b[1;33m\u001b[0m\u001b[0m\n\u001b[0m",
      "\u001b[1;31mException\u001b[0m: No. is Negative"
     ]
    }
   ],
   "source": [
    "y=50\n",
    "while(y>=-50):\n",
    "    print(y)\n",
    "    y=y-1\n",
    "    if(y<0):\n",
    "        raise Exception(\"No. is Negative\")"
   ]
  },
  {
   "cell_type": "code",
   "execution_count": 21,
   "metadata": {},
   "outputs": [
    {
     "name": "stdout",
     "output_type": "stream",
     "text": [
      "Enter ur name5456\n",
      "Valide\n"
     ]
    }
   ],
   "source": [
    "name=input(\"Enter ur name\")\n",
    "if  type(name) is str:\n",
    "    print(\"Valide\")\n",
    "else:    \n",
    "    raise Exception(\"Data miss match\")"
   ]
  },
  {
   "cell_type": "markdown",
   "metadata": {},
   "source": [
    "# Summary"
   ]
  },
  {
   "cell_type": "markdown",
   "metadata": {},
   "source": [
    "- try=If we feels exception is going to generate in of statement includes all those statement in try \n",
    "- except=If exception is going to generate in try block handle that exception in except block\n",
    "- else=else block is going to excute when exception is not going to genrate for written try block\n",
    "- finslly=finally is always excuting irrespective of exceptions\n",
    "- raise=raise keyword is used nto generate manual exception for specific condition"
   ]
  },
  {
   "cell_type": "code",
   "execution_count": null,
   "metadata": {},
   "outputs": [],
   "source": []
  }
 ],
 "metadata": {
  "kernelspec": {
   "display_name": "Python 3",
   "language": "python",
   "name": "python3"
  },
  "language_info": {
   "codemirror_mode": {
    "name": "ipython",
    "version": 3
   },
   "file_extension": ".py",
   "mimetype": "text/x-python",
   "name": "python",
   "nbconvert_exporter": "python",
   "pygments_lexer": "ipython3",
   "version": "3.7.4"
  }
 },
 "nbformat": 4,
 "nbformat_minor": 2
}
