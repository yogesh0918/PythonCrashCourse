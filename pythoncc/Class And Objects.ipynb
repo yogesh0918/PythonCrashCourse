{
 "cells": [
  {
   "cell_type": "code",
   "execution_count": 3,
   "metadata": {},
   "outputs": [
    {
     "name": "stdout",
     "output_type": "stream",
     "text": [
      "50 Yogesh\n"
     ]
    }
   ],
   "source": [
    "#Creating a class\n",
    "class parent:\n",
    "    age=50  #Atributes\\variable\n",
    "    name=\"Yogesh\"\n",
    "    print(age,name)"
   ]
  },
  {
   "cell_type": "code",
   "execution_count": 5,
   "metadata": {},
   "outputs": [
    {
     "name": "stdout",
     "output_type": "stream",
     "text": [
      "50\n",
      "Yogesh\n",
      "-------------\n",
      "50\n",
      "Yogesh\n"
     ]
    }
   ],
   "source": [
    "yo=parent()  #Object create\n",
    "av=parent()\n",
    "#print values of above class using objects\n",
    "print(yo.age)\n",
    "print(yo.name)\n",
    "print(\"-------------\")\n",
    "print(av.age)\n",
    "print(av.name)"
   ]
  },
  {
   "cell_type": "code",
   "execution_count": 15,
   "metadata": {},
   "outputs": [
    {
     "name": "stdout",
     "output_type": "stream",
     "text": [
      "2\n",
      "Yellow\n",
      "12.568\n"
     ]
    }
   ],
   "source": [
    "class circle:\n",
    "    def __init__(self,r,co):   #---------- Constructor\n",
    "        self.r=r\n",
    "        self.co=co\n",
    "    def get_radius(self):      #---------- Class method defination\n",
    "        print(self.r)\n",
    "    def get_area(self):        #---------- Class method defination\n",
    "        print(self.r*3.142*self.r)\n",
    "    def get_col(self):         #---------- Class method defination\n",
    "        print(self.co)\n",
    "as1=circle(2,\"Yellow\")         #---- Object create of class(circle)\n",
    "as1.get_radius()      \n",
    "as1.get_col()\n",
    "as1.get_area()                #------Methods calling with Object"
   ]
  },
  {
   "cell_type": "code",
   "execution_count": 24,
   "metadata": {},
   "outputs": [
    {
     "name": "stdout",
     "output_type": "stream",
     "text": [
      "Hiii\n",
      "Tied Playing\n",
      "Yogesh Say Hello .... to ur fans\n",
      "Tied Playing\n"
     ]
    }
   ],
   "source": [
    "class Human:\n",
    "    def __init__(self,nm,occ):\n",
    "        self.nm=nm\n",
    "        self.occupation=occ\n",
    "        print(\"Hiii\")\n",
    "        \n",
    "    def do_work(self):\n",
    "        if self.occupation==\"actor\":\n",
    "            print(\"Movie actor\")\n",
    "        if self.occupation==\"tenis player\":\n",
    "            print(\"Tenis player\")\n",
    "        if self.occupation==\"Cricket\":\n",
    "            print(\"Tied Playing\")\n",
    "            \n",
    "    def speak(self):\n",
    "        print(self.nm+\" Say Hello .... to ur fans\")\n",
    "        \n",
    "        \n",
    "he=Human(\"Yogesh\",\"Cricket\")\n",
    "he.do_work()\n",
    "he.speak()\n",
    "he.occupation=\"Cricket\"     \n",
    "he.do_work()"
   ]
  },
  {
   "cell_type": "code",
   "execution_count": null,
   "metadata": {},
   "outputs": [],
   "source": [
    "#create two classes bird & animal ,create object of bird as sparrow & cat as obejct of animal.Define speaks method in both class & call it  "
   ]
  },
  {
   "cell_type": "code",
   "execution_count": 12,
   "metadata": {},
   "outputs": [
    {
     "name": "stdout",
     "output_type": "stream",
     "text": [
      "Sparrow speak CHIV CHIV\n",
      "Bhauu Bhauu speak by Moti\n"
     ]
    }
   ],
   "source": [
    "class bird:\n",
    "    def __init__(self):\n",
    "        pass\n",
    "    def speak(self):\n",
    "        print(\"Sparrow speak CHIV CHIV\")\n",
    "    \n",
    "class animal:\n",
    "    def speak(self,name):\n",
    "        self.nm=name\n",
    "        print(\"Bhauu Bhauu speak by\",self.nm)\n",
    "dog=animal()\n",
    "sp=bird()\n",
    "sp.speak()\n",
    "dog.speak(\"Moti\")\n",
    "    "
   ]
  },
  {
   "cell_type": "code",
   "execution_count": 35,
   "metadata": {},
   "outputs": [
    {
     "name": "stdout",
     "output_type": "stream",
     "text": [
      "Sparrow says CHiv Chiv\n",
      "Cat Says MEOW....\n"
     ]
    }
   ],
   "source": [
    "class bird:\n",
    "    def speak(self,name):\n",
    "        self.n=name\n",
    "        print(self.n,\"says CHiv Chiv\")\n",
    "    def swim(slef):\n",
    "        pass\n",
    "class animal:\n",
    "    def __init__(y,n):\n",
    "        y.name=n\n",
    "    def speak(y):\n",
    "        print(y.name+\" Says MEOW....\")\n",
    "    def describe(y):\n",
    "        print(\"I m .....\",y.name)\n",
    "class insects():\n",
    "    pass\n",
    "        \n",
    "sparrow=bird()\n",
    "sparrow.speak(\"Sparrow\")\n",
    "\n",
    "cat=animal(\"Cat\")\n",
    "cat.speak()"
   ]
  },
  {
   "cell_type": "code",
   "execution_count": 32,
   "metadata": {},
   "outputs": [],
   "source": [
    "#How t delete objects\n",
    "del cat"
   ]
  },
  {
   "cell_type": "code",
   "execution_count": 36,
   "metadata": {},
   "outputs": [
    {
     "name": "stdout",
     "output_type": "stream",
     "text": [
      "I m ..... PYTHON\n"
     ]
    }
   ],
   "source": [
    "#craete ANOTHER OBJECT \n",
    "snak=animal(\"PYTHON\")\n",
    "snak.describe()"
   ]
  },
  {
   "cell_type": "code",
   "execution_count": 43,
   "metadata": {},
   "outputs": [
    {
     "name": "stdout",
     "output_type": "stream",
     "text": [
      "NAme= Yogesh Salory= 100000\n",
      "No. of Employees= 1\n"
     ]
    }
   ],
   "source": [
    "class employee:\n",
    "    empcount=0\n",
    "    def __init__(self,name,sal):\n",
    "        self.name=name\n",
    "        self.sal=sal\n",
    "        employee.empcount +=1\n",
    "    def dispEmpl(self):\n",
    "        print(\"NAme=\",self.name,\"Salory=\",self.sal)\n",
    "        \n",
    "    def dispCount(self):\n",
    "        print(\"No. of Employees=\",employee.empcount)\n",
    "yes=employee(\"Yogesh\",100000)\n",
    "yes.dispEmpl()\n",
    "yes.dispCount()\n"
   ]
  },
  {
   "cell_type": "markdown",
   "metadata": {},
   "source": [
    "## Features of OOP\n",
    "\n",
    "# What is Inheritance ?\n",
    "- Inheritance is powerful feature in OOP\n",
    "- It refers to defining a new class with or no modification to an excuting class\n",
    "- The new class is called derived (Child)class & one more from which it ihnerits is called base(parent) class\n",
    "\n",
    "# Benfits \n",
    "### 1.Reusebility of code\n",
    "### 2.Extendibility\n",
    "### 3.Readability"
   ]
  },
  {
   "cell_type": "code",
   "execution_count": 2,
   "metadata": {},
   "outputs": [
    {
     "name": "stdout",
     "output_type": "stream",
     "text": [
      "This is from Human class\n",
      "This is from Human class\n",
      "This is from Human class\n"
     ]
    }
   ],
   "source": [
    "#Single Inheritance (one to many)\n",
    "class Human:\n",
    "    def specification(self):\n",
    "        print(\"This is from Human class\")\n",
    "        \n",
    "class Boy(Human):\n",
    "    def Space(self):\n",
    "        print(\"This is from Boy Class\")\n",
    "        \n",
    "class Boy_Child(Human):\n",
    "    def Quality(self):\n",
    "        print(\"This is from Boy_Child class\")\n",
    "        \n",
    "Son=Boy_Child()\n",
    "Son.specification()\n",
    "\n",
    "yes=Boy()\n",
    "yes.specification()\n",
    "\n",
    "hu=Human()\n",
    "Son.specification()"
   ]
  },
  {
   "cell_type": "code",
   "execution_count": 49,
   "metadata": {},
   "outputs": [
    {
     "name": "stdout",
     "output_type": "stream",
     "text": [
      "This is from Boy Class\n",
      "This is from Human class\n",
      "Thjs is from Boy_Child class\n"
     ]
    }
   ],
   "source": [
    "# Multilevel Inheritance\n",
    "\n",
    "class Human:\n",
    "    def specification(self):\n",
    "        print(\"This is from Human class\")\n",
    "        \n",
    "class Boy(Human):\n",
    "    def Space(self):\n",
    "        print(\"This is from Boy Class\")\n",
    "        \n",
    "class Boy_Child(Boy):\n",
    "    def Quality(self):\n",
    "        print(\"Thjs is from Boy_Child class\")\n",
    "        \n",
    "Son=Boy_Child()\n",
    "Son.Space()\n",
    "Son.specification()\n",
    "Son.Quality()\n"
   ]
  },
  {
   "cell_type": "code",
   "execution_count": 72,
   "metadata": {},
   "outputs": [
    {
     "name": "stdout",
     "output_type": "stream",
     "text": [
      "Boy class Construtor\n",
      "\n",
      "This is from Boy Class\n",
      "\n",
      "This is from Human class\n",
      "\n",
      "This is from Boy_Child class\n"
     ]
    }
   ],
   "source": [
    "# If Child class contructor(__init__) is not then it get constuctor of parent\n",
    "# If both have __init__ then it will execute child class constuctor(__init__)\n",
    "class Human:\n",
    "    def __init__(self):\n",
    "        print(\"....If Child class contructor is not then it get constuctor of parent.....\\nPArent class Construtor\")\n",
    "    def specification(self):\n",
    "        print(\"\\nThis is from Human class\")\n",
    "        \n",
    "        \n",
    "class Boy(Human):\n",
    "    def __init__(self):\n",
    "        print(\"Boy class Construtor\")\n",
    "    def Space(self):\n",
    "        print(\"\\nThis is from Boy Class\")\n",
    "        \n",
    "class Boy_Child(Boy):\n",
    "    \n",
    "    def Quality(self):\n",
    "        print(\"\\nThis is from Boy_Child class\")\n",
    "        \n",
    "Son=Boy_Child()\n",
    "Son.Space()\n",
    "Son.specification()\n",
    "Son.Quality()\n"
   ]
  },
  {
   "cell_type": "code",
   "execution_count": 75,
   "metadata": {},
   "outputs": [
    {
     "name": "stdout",
     "output_type": "stream",
     "text": [
      "False\n",
      "False\n",
      "False\n"
     ]
    }
   ],
   "source": [
    "# isinstance() & issubclass()Method\n",
    "print(isinstance(Boy_Child,Human))\n",
    "print(isinstance(Boy,Boy_Child))\n",
    "print(isinstance(Human,Boy_Child))"
   ]
  },
  {
   "cell_type": "code",
   "execution_count": 77,
   "metadata": {},
   "outputs": [
    {
     "name": "stdout",
     "output_type": "stream",
     "text": [
      "True\n",
      "True\n",
      "False\n"
     ]
    }
   ],
   "source": [
    "print(issubclass(Boy_Child,Human))\n",
    "print(issubclass(Boy_Child,Boy))\n",
    "print(isinstance(Human,Boy_Child))"
   ]
  },
  {
   "cell_type": "code",
   "execution_count": 6,
   "metadata": {},
   "outputs": [
    {
     "name": "stdout",
     "output_type": "stream",
     "text": [
      "I LOVE COOKING \n",
      "I LOVE GARDNING \n",
      "I LOVE SPORTS\n"
     ]
    }
   ],
   "source": [
    "#Multilevel Inheritance\n",
    "class anna:\n",
    "    def GARDNING(self):\n",
    "        \n",
    "        print(\"I LOVE GARDNING \")\n",
    "class mother:\n",
    "    def COOKING(self):\n",
    "        print(\"I LOVE COOKING \")\n",
    "class me(anna,mother):\n",
    "    def sports(self):\n",
    "        \n",
    "        print(\"I LOVE SPORTS\")\n",
    "    \n",
    "yogesh=me()\n",
    "yogesh.COOKING()\n",
    "yogesh.GARDNING()\n",
    "yogesh.sports()"
   ]
  },
  {
   "cell_type": "markdown",
   "metadata": {},
   "source": [
    "# Encapsulation \n",
    " "
   ]
  },
  {
   "cell_type": "code",
   "execution_count": 2,
   "metadata": {},
   "outputs": [
    {
     "name": "stdout",
     "output_type": "stream",
     "text": [
      "I LOVE COOKING \n"
     ]
    },
    {
     "ename": "AttributeError",
     "evalue": "'me' object has no attribute 'GARDNING'",
     "output_type": "error",
     "traceback": [
      "\u001b[1;31m---------------------------------------------------------------------------\u001b[0m",
      "\u001b[1;31mAttributeError\u001b[0m                            Traceback (most recent call last)",
      "\u001b[1;32m<ipython-input-2-5703712a563d>\u001b[0m in \u001b[0;36m<module>\u001b[1;34m\u001b[0m\n\u001b[0;32m     16\u001b[0m \u001b[0myogesh\u001b[0m\u001b[1;33m=\u001b[0m\u001b[0mme\u001b[0m\u001b[1;33m(\u001b[0m\u001b[1;33m)\u001b[0m\u001b[1;33m\u001b[0m\u001b[1;33m\u001b[0m\u001b[0m\n\u001b[0;32m     17\u001b[0m \u001b[0myogesh\u001b[0m\u001b[1;33m.\u001b[0m\u001b[0mCOOKING\u001b[0m\u001b[1;33m(\u001b[0m\u001b[1;33m)\u001b[0m\u001b[1;33m\u001b[0m\u001b[1;33m\u001b[0m\u001b[0m\n\u001b[1;32m---> 18\u001b[1;33m \u001b[0myogesh\u001b[0m\u001b[1;33m.\u001b[0m\u001b[0mGARDNING\u001b[0m\u001b[1;33m(\u001b[0m\u001b[1;33m)\u001b[0m\u001b[1;33m\u001b[0m\u001b[1;33m\u001b[0m\u001b[0m\n\u001b[0m",
      "\u001b[1;31mAttributeError\u001b[0m: 'me' object has no attribute 'GARDNING'"
     ]
    }
   ],
   "source": [
    "\n",
    "class anna:  \n",
    "    n1=21    #--> Public data member\n",
    "    _n2=22   #--> Protected \n",
    "    __n3=23  #--> Private\n",
    "    def __GARDNING(self):    #Private method\n",
    "        print(\"I LOVE GARDNING \")\n",
    "        \n",
    "class mother:    #--> public method \n",
    "    def COOKING(self):\n",
    "        print(\"I LOVE COOKING \")\n",
    "        \n",
    "class me(anna,mother): \n",
    "    def _sports(self):     #Protected method\n",
    "        print(\"I LOVE SPORTS\")\n",
    "    \n",
    "yogesh=me()\n",
    "yogesh.COOKING()\n",
    "yogesh.GARDNING()"
   ]
  },
  {
   "cell_type": "markdown",
   "metadata": {},
   "source": [
    "# Polymosphism"
   ]
  },
  {
   "cell_type": "markdown",
   "metadata": {},
   "source": [
    "# Method Overloading \n",
    "- Python does not support Method Overloading ,but we can create n no. of methods with same name & parameters\n",
    "- Latest method will be executed in such cases,at same time no.of parameter while calling method & method defination should be same"
   ]
  },
  {
   "cell_type": "code",
   "execution_count": 11,
   "metadata": {},
   "outputs": [
    {
     "name": "stdout",
     "output_type": "stream",
     "text": [
      "1\n"
     ]
    }
   ],
   "source": [
    "class y:\n",
    "    \n",
    "    def pro(a,b,c):\n",
    "        print(b*c)\n",
    "    \n",
    "    def pro(a,b):\n",
    "        print(b)\n",
    "    \n",
    "yo=y()\n",
    "yo.pro(1)\n",
    "    "
   ]
  },
  {
   "cell_type": "markdown",
   "metadata": {},
   "source": [
    "# Method Overridding\n",
    "- It used in Inheritance Cenario\n",
    "- Base (Parent) class method & child method will have same but diff. behaviour"
   ]
  },
  {
   "cell_type": "code",
   "execution_count": 20,
   "metadata": {},
   "outputs": [
    {
     "name": "stdout",
     "output_type": "stream",
     "text": [
      "2 is Area\n",
      "4\n"
     ]
    }
   ],
   "source": [
    "class rect:\n",
    "    def get_Area(self,a,b):\n",
    "        self.length=a\n",
    "        self.breadth=b\n",
    "        print(self.length*self.breadth,\"is Area\")\n",
    "        \n",
    "class Sq:\n",
    "    def get_Area(self,a):\n",
    "        print(a*a)\n",
    "        \n",
    "obj=rect()\n",
    "obj.get_Area(1,2)\n",
    "sqa=Sq()\n",
    "sqa.get_Area(2)\n",
    "        "
   ]
  },
  {
   "cell_type": "markdown",
   "metadata": {},
   "source": [
    "### Data Abstraction\n",
    "- Data which really essention which can show other information will be hiding in background"
   ]
  },
  {
   "cell_type": "code",
   "execution_count": null,
   "metadata": {},
   "outputs": [],
   "source": [
    "# Example -\n",
    "class Boy(Human):\n",
    "    def __init__(self):\n",
    "        print(\"Boy class Construtor\")\n",
    "    def Space(self):\n",
    "        print(\"\\nThis is from Boy Class\")\n",
    "        "
   ]
  },
  {
   "cell_type": "markdown",
   "metadata": {},
   "source": [
    "- In this example, Implimentation detail of __init__  is hidden from outside world to minimize the complexity\n",
    "- As a programmer we are implimenting __Space__ method it is avilable to see,but it should not visible to person who is going to use my application "
   ]
  },
  {
   "cell_type": "code",
   "execution_count": null,
   "metadata": {},
   "outputs": [],
   "source": []
  }
 ],
 "metadata": {
  "kernelspec": {
   "display_name": "Python 3",
   "language": "python",
   "name": "python3"
  },
  "language_info": {
   "codemirror_mode": {
    "name": "ipython",
    "version": 3
   },
   "file_extension": ".py",
   "mimetype": "text/x-python",
   "name": "python",
   "nbconvert_exporter": "python",
   "pygments_lexer": "ipython3",
   "version": "3.7.4"
  }
 },
 "nbformat": 4,
 "nbformat_minor": 2
}
