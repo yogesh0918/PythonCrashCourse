{
 "cells": [
  {
   "cell_type": "code",
   "execution_count": 6,
   "metadata": {},
   "outputs": [],
   "source": [
    "#Tutorial"
   ]
  },
  {
   "cell_type": "code",
   "execution_count": 5,
   "metadata": {},
   "outputs": [
    {
     "name": "stdout",
     "output_type": "stream",
     "text": [
      "HELLO\n"
     ]
    }
   ],
   "source": [
    "print(\"HELLO\")"
   ]
  },
  {
   "cell_type": "markdown",
   "metadata": {},
   "source": [
    "# Tital"
   ]
  },
  {
   "cell_type": "markdown",
   "metadata": {},
   "source": [
    "print(\"HII\")"
   ]
  },
  {
   "cell_type": "code",
   "execution_count": 9,
   "metadata": {},
   "outputs": [
    {
     "name": "stdout",
     "output_type": "stream",
     "text": [
      "t\n"
     ]
    }
   ],
   "source": [
    "if 6>5:\n",
    "    print(\"t\")\n",
    "else:\n",
    "    print(\"f\")"
   ]
  },
  {
   "cell_type": "markdown",
   "metadata": {},
   "source": [
    "# Comment in Phyton"
   ]
  },
  {
   "cell_type": "code",
   "execution_count": 16,
   "metadata": {},
   "outputs": [
    {
     "name": "stdout",
     "output_type": "stream",
     "text": [
      "not printed\n"
     ]
    }
   ],
   "source": [
    "#this statement is comment it will not be excuted\n",
    "print(\"not printed\")"
   ]
  },
  {
   "cell_type": "code",
   "execution_count": 17,
   "metadata": {},
   "outputs": [
    {
     "name": "stdout",
     "output_type": "stream",
     "text": [
      "this is 2nd statement\n"
     ]
    }
   ],
   "source": [
    "print(\"this is 2nd statement\") #comment is started from here"
   ]
  },
  {
   "cell_type": "code",
   "execution_count": 19,
   "metadata": {},
   "outputs": [
    {
     "name": "stdout",
     "output_type": "stream",
     "text": [
      "this is statement1\n",
      "thid is statement3\n"
     ]
    }
   ],
   "source": [
    "#multiline comment\n",
    "print(\"this is statement1\")\n",
    "#print(\"this is statement2\")\n",
    "print(\"thid is statement3\")\n"
   ]
  },
  {
   "cell_type": "code",
   "execution_count": 1,
   "metadata": {},
   "outputs": [
    {
     "name": "stdout",
     "output_type": "stream",
     "text": [
      "this will excuted\n",
      "\n",
      "jsadhjuside\n",
      "sahdujhdeue\n",
      "auhfrecn \n",
      "jhagfuer\n",
      "\n"
     ]
    },
    {
     "data": {
      "text/plain": [
       "'\\njsadhjuside\\nsahdujhdeue\\nauhfrecn \\njhagfuer\\n'"
      ]
     },
     "execution_count": 1,
     "metadata": {},
     "output_type": "execute_result"
    }
   ],
   "source": [
    "num1=\"\"\"\n",
    "jsadhjuside\n",
    "sahdujhdeue\n",
    "auhfrecn \n",
    "jhagfuer\n",
    "\"\"\"\n",
    "print(\"this will excuted\")\n",
    "print(num1)\n",
    "num1"
   ]
  },
  {
   "cell_type": "code",
   "execution_count": 36,
   "metadata": {},
   "outputs": [
    {
     "name": "stdout",
     "output_type": "stream",
     "text": [
      "<class 'int'>\n",
      "<class 'str'>\n"
     ]
    },
    {
     "data": {
      "text/plain": [
       "float"
      ]
     },
     "execution_count": 36,
     "metadata": {},
     "output_type": "execute_result"
    }
   ],
   "source": [
    "#only at last positon \"type\" will gives o/p\n",
    "roll=12\n",
    "print(type(roll))\n",
    "yo='yogesh'\n",
    "print(type(yo))\n",
    "marks=77.77\n",
    "type(marks)\n",
    "\n"
   ]
  },
  {
   "cell_type": "code",
   "execution_count": 39,
   "metadata": {},
   "outputs": [
    {
     "ename": "SyntaxError",
     "evalue": "invalid syntax (<ipython-input-39-f7b645583423>, line 3)",
     "output_type": "error",
     "traceback": [
      "\u001b[1;36m  File \u001b[1;32m\"<ipython-input-39-f7b645583423>\"\u001b[1;36m, line \u001b[1;32m3\u001b[0m\n\u001b[1;33m    1var-----#invalide\u001b[0m\n\u001b[1;37m       ^\u001b[0m\n\u001b[1;31mSyntaxError\u001b[0m\u001b[1;31m:\u001b[0m invalid syntax\n"
     ]
    }
   ],
   "source": [
    "#valid or invalid variables\n",
    "#variable is name given to resurved memory location\n",
    "1var-----#invalide\n",
    "_var2----#valide\n",
    "var2-----#valide"
   ]
  },
  {
   "cell_type": "code",
   "execution_count": 7,
   "metadata": {},
   "outputs": [
    {
     "name": "stdout",
     "output_type": "stream",
     "text": [
      "it is right Yes\n",
      "it is rightYes\n",
      "it is right gjYes\n"
     ]
    }
   ],
   "source": [
    "#how to o/p a variable?\n",
    "#variable can be displyed using print with +/, symbol\n",
    "x=\"Yes\"\n",
    "y=\"yes\"\n",
    "print(\"it is right\",x)\n",
    "print(\"it is right\"+x)\n",
    "print(\"it is right\"+\" \"+x)\n",
    "\n"
   ]
  },
  {
   "cell_type": "code",
   "execution_count": 52,
   "metadata": {},
   "outputs": [
    {
     "name": "stdout",
     "output_type": "stream",
     "text": [
      "yoawpr\n",
      "36\n",
      "9\n"
     ]
    }
   ],
   "source": [
    "s1=\"yo\"\n",
    "s2=\"aw\"\n",
    "s3=\"pr\"\n",
    "s4=s1+s2+s3\n",
    "print(s4)\n",
    "n1='3'\n",
    "n2='6'\n",
    "n3=n1+n2\n",
    "print(n3)\n",
    "n1=3\n",
    "n2=6\n",
    "n3=n1+n2\n",
    "print(n3)\n"
   ]
  },
  {
   "cell_type": "markdown",
   "metadata": {},
   "source": [
    "# if both variables are of same type then it will gives o/p otherwisw it will generate error.\n",
    "eg.\n"
   ]
  },
  {
   "cell_type": "code",
   "execution_count": 51,
   "metadata": {},
   "outputs": [
    {
     "ename": "TypeError",
     "evalue": "can only concatenate str (not \"int\") to str",
     "output_type": "error",
     "traceback": [
      "\u001b[1;31m---------------------------------------------------------------------------\u001b[0m",
      "\u001b[1;31mTypeError\u001b[0m                                 Traceback (most recent call last)",
      "\u001b[1;32m<ipython-input-51-b45bc4f53e75>\u001b[0m in \u001b[0;36m<module>\u001b[1;34m\u001b[0m\n\u001b[0;32m      1\u001b[0m \u001b[0mage\u001b[0m\u001b[1;33m=\u001b[0m\u001b[1;36m21\u001b[0m\u001b[1;33m\u001b[0m\u001b[1;33m\u001b[0m\u001b[0m\n\u001b[0;32m      2\u001b[0m \u001b[0mname\u001b[0m\u001b[1;33m=\u001b[0m\u001b[1;34m'yo'\u001b[0m\u001b[1;33m\u001b[0m\u001b[1;33m\u001b[0m\u001b[0m\n\u001b[1;32m----> 3\u001b[1;33m \u001b[0mprint\u001b[0m\u001b[1;33m(\u001b[0m\u001b[0mname\u001b[0m\u001b[1;33m+\u001b[0m\u001b[0mage\u001b[0m\u001b[1;33m)\u001b[0m\u001b[1;33m\u001b[0m\u001b[1;33m\u001b[0m\u001b[0m\n\u001b[0m",
      "\u001b[1;31mTypeError\u001b[0m: can only concatenate str (not \"int\") to str"
     ]
    }
   ],
   "source": [
    "age=21\n",
    "name='yo'\n",
    "print(name+age)\n"
   ]
  },
  {
   "cell_type": "markdown",
   "metadata": {},
   "source": [
    "# Globle variables and local avriables"
   ]
  },
  {
   "cell_type": "markdown",
   "metadata": {},
   "source": [
    "Local variable can't use outside of function"
   ]
  },
  {
   "cell_type": "code",
   "execution_count": 55,
   "metadata": {},
   "outputs": [
    {
     "name": "stdout",
     "output_type": "stream",
     "text": [
      "my name is  yogesh\n"
     ]
    },
    {
     "ename": "NameError",
     "evalue": "name 's9' is not defined",
     "output_type": "error",
     "traceback": [
      "\u001b[1;31m---------------------------------------------------------------------------\u001b[0m",
      "\u001b[1;31mNameError\u001b[0m                                 Traceback (most recent call last)",
      "\u001b[1;32m<ipython-input-55-7115ed18ab88>\u001b[0m in \u001b[0;36m<module>\u001b[1;34m\u001b[0m\n\u001b[0;32m      4\u001b[0m     \u001b[0ms9\u001b[0m\u001b[1;33m=\u001b[0m\u001b[1;34m\"yo\"\u001b[0m\u001b[1;33m\u001b[0m\u001b[1;33m\u001b[0m\u001b[0m\n\u001b[0;32m      5\u001b[0m \u001b[0mfun1\u001b[0m\u001b[1;33m(\u001b[0m\u001b[1;33m)\u001b[0m\u001b[1;33m\u001b[0m\u001b[1;33m\u001b[0m\u001b[0m\n\u001b[1;32m----> 6\u001b[1;33m \u001b[0mprint\u001b[0m\u001b[1;33m(\u001b[0m\u001b[0ms9\u001b[0m\u001b[1;33m)\u001b[0m\u001b[1;33m\u001b[0m\u001b[1;33m\u001b[0m\u001b[0m\n\u001b[0m",
      "\u001b[1;31mNameError\u001b[0m: name 's9' is not defined"
     ]
    }
   ],
   "source": [
    "s1=\"yogesh\"\n",
    "def fun1():\n",
    "    print(\"my name is \",s1)\n",
    "    s9=\"yo\"\n",
    "fun1()\n",
    "print(s9)   # it will generate error because s9 is local variable"
   ]
  },
  {
   "cell_type": "code",
   "execution_count": 61,
   "metadata": {},
   "outputs": [
    {
     "name": "stdout",
     "output_type": "stream",
     "text": [
      "yogesh\n",
      "my name is  yo\n"
     ]
    }
   ],
   "source": [
    "s9=\"yogesh\"\n",
    "def fun2():\n",
    "    s9=\"yo\"\n",
    "    print(\"my name is \",s9)\n",
    "    \n",
    "print(s9)\n",
    "fun2()"
   ]
  },
  {
   "cell_type": "code",
   "execution_count": 16,
   "metadata": {},
   "outputs": [
    {
     "name": "stdout",
     "output_type": "stream",
     "text": [
      "my name is yogesh\n",
      "yogesh\n"
     ]
    }
   ],
   "source": [
    "\n",
    "def fun2():\n",
    "    global s10\n",
    "    s10=\"yogesh\"   #local variable\n",
    "    print(\"my name is\",s10)\n",
    "    \n",
    "\n",
    "fun2()\n",
    "print(s10)"
   ]
  },
  {
   "cell_type": "markdown",
   "metadata": {},
   "source": [
    "# we can change value of global variable by using key word 'global' inside function"
   ]
  },
  {
   "cell_type": "code",
   "execution_count": 67,
   "metadata": {},
   "outputs": [
    {
     "name": "stdout",
     "output_type": "stream",
     "text": [
      "my name is  yo\n",
      "yo\n"
     ]
    }
   ],
   "source": [
    "s11='yogesh'\n",
    "def fun2():\n",
    "    global s11\n",
    "    s11=\"yo\"   #local variable\n",
    "    print(\"my name is \",s11)\n",
    "fun2()    \n",
    "print(s11)\n"
   ]
  },
  {
   "cell_type": "markdown",
   "metadata": {},
   "source": [
    "# Datatypes"
   ]
  },
  {
   "cell_type": "markdown",
   "metadata": {},
   "source": [
    "Python has following datatypes:\n",
    "#Text type: str\n",
    "#numeric type:int,float,complex\n",
    "#sequence type:list,tuple,range\n",
    "#mapping type: set,frozenset(immutable)\n",
    "#boolean type:bool\n",
    "#binary type:bytes,\n"
   ]
  },
  {
   "cell_type": "code",
   "execution_count": null,
   "metadata": {},
   "outputs": [],
   "source": [
    "x='this is string '\n",
    "y=20\n",
    "z=34.40\n",
    "a=23+lj  #complex\n",
    "b=[\"app\",\"banna\",\"grapes\"]  #list\n",
    "d=range(6)     #range\n",
    "e={name:\"yogesh\",age:19}   #dict\n",
    "f={\"man\",\"oranf\"}   #set\n",
    "g=frozenset({\"mnnn\",\"otrdftyf2\"})\n",
    "j=bytearray(5)\n",
    "k=memoryview()"
   ]
  },
  {
   "cell_type": "code",
   "execution_count": 72,
   "metadata": {},
   "outputs": [
    {
     "name": "stdout",
     "output_type": "stream",
     "text": [
      "<class 'float'>\n"
     ]
    },
    {
     "data": {
      "text/plain": [
       "int"
      ]
     },
     "execution_count": 72,
     "metadata": {},
     "output_type": "execute_result"
    }
   ],
   "source": [
    "p=77.90\n",
    "print(type(p))\n",
    "new=int(p)\n",
    "type(new)"
   ]
  },
  {
   "cell_type": "markdown",
   "metadata": {},
   "source": [
    "# WAP for calculator"
   ]
  },
  {
   "cell_type": "code",
   "execution_count": 81,
   "metadata": {},
   "outputs": [
    {
     "name": "stdout",
     "output_type": "stream",
     "text": [
      "-----------calculator-----------\n",
      "Enter 1st no.:99\n",
      "enter 2nd no101\n",
      "\t1.add\t2.sub\t3.multi\t4.div\t5.mod\n",
      "enter your choice:\n",
      "6\n",
      "Invalide no.\n"
     ]
    }
   ],
   "source": [
    "print(\"-----------calculator-----------\")\n",
    "print(\"Enter 1st no.:\",end=\"\")\n",
    "fn=input()\n",
    "sn=input(\"enter 2nd no\")\n",
    "fn=int(fn)\n",
    "sn=int(sn)\n",
    "print(\"\\t1.add\\t2.sub\\t3.multi\\t4.div\\t5.mod\\nenter your choice:\")\n",
    "ch=input()\n",
    "ch=int(ch)\n",
    "if(ch==1):\n",
    "    print(\"Result=\",fn+sn)\n",
    "elif(ch==2):\n",
    "    print(\"Result=\",fn-sn)\n",
    "elif(ch==3):\n",
    "    print(\"Result=\",fn*sn)\n",
    "elif(ch==4):\n",
    "    print(\"Result=\",fn/sn)\n",
    "elif(ch==5):\n",
    "    print(\"Result=\",fn%sn)\n",
    "else:\n",
    "    print(\"Invalide no.\")\n",
    "    \n",
    "\n"
   ]
  },
  {
   "cell_type": "markdown",
   "metadata": {},
   "source": [
    "# WAP for Scholarship\n"
   ]
  },
  {
   "cell_type": "code",
   "execution_count": 84,
   "metadata": {},
   "outputs": [
    {
     "name": "stdout",
     "output_type": "stream",
     "text": [
      "Enter your name\n",
      "YOGESH\n",
      "Scholarship is given to YOGESH\n",
      "Enter students marks: 77\n",
      "You got 1000000\n"
     ]
    }
   ],
   "source": [
    "print(\"Enter your name\")\n",
    "nm=input()\n",
    "print(\"Scholarship is given to\",nm)\n",
    "m=input(\"Enter students marks: \")\n",
    "m=int(m)\n",
    "if(m>75):\n",
    "    print(\"You got 1000000\")\n",
    "elif(m>60):\n",
    "    print(\"You got 100000\")\n",
    "elif(m>50):\n",
    "    print(\"You got 10000\")\n",
    "elif(m>40):\n",
    "    print(\"You got 1000\")\n",
    "else:\n",
    "    print(\"You are not eligeble for scholarship\")\n",
    "\n",
    "    \n"
   ]
  },
  {
   "cell_type": "code",
   "execution_count": 10,
   "metadata": {},
   "outputs": [
    {
     "name": "stdout",
     "output_type": "stream",
     "text": [
      "['orange', 'mango', 'fb']\n",
      "['monkey', 'mango', 'fb']\n"
     ]
    },
    {
     "ename": "TypeError",
     "evalue": "'frozenset' object does not support item assignment",
     "output_type": "error",
     "traceback": [
      "\u001b[1;31m---------------------------------------------------------------------------\u001b[0m",
      "\u001b[1;31mTypeError\u001b[0m                                 Traceback (most recent call last)",
      "\u001b[1;32m<ipython-input-10-a12c869c50de>\u001b[0m in \u001b[0;36m<module>\u001b[1;34m\u001b[0m\n\u001b[0;32m      5\u001b[0m \u001b[0mprint\u001b[0m\u001b[1;33m(\u001b[0m\u001b[0mfruitlist\u001b[0m\u001b[1;33m)\u001b[0m\u001b[1;33m\u001b[0m\u001b[1;33m\u001b[0m\u001b[0m\n\u001b[0;32m      6\u001b[0m \u001b[0mmyfruitlist\u001b[0m\u001b[1;33m=\u001b[0m\u001b[0mfrozenset\u001b[0m\u001b[1;33m(\u001b[0m\u001b[0mfruitlist\u001b[0m\u001b[1;33m)\u001b[0m\u001b[1;33m\u001b[0m\u001b[1;33m\u001b[0m\u001b[0m\n\u001b[1;32m----> 7\u001b[1;33m \u001b[0mmyfruitlist\u001b[0m\u001b[1;33m[\u001b[0m\u001b[1;36m1\u001b[0m\u001b[1;33m]\u001b[0m\u001b[1;33m=\u001b[0m\u001b[1;34m\"yo\"\u001b[0m\u001b[1;33m\u001b[0m\u001b[1;33m\u001b[0m\u001b[0m\n\u001b[0m",
      "\u001b[1;31mTypeError\u001b[0m: 'frozenset' object does not support item assignment"
     ]
    }
   ],
   "source": [
    "#frozenset will make object unchangeable\n",
    "fruitlist=['orange','mango','fb']\n",
    "print(fruitlist)\n",
    "fruitlist[0]=\"monkey\"\n",
    "print(fruitlist)\n",
    "myfruitlist=frozenset(fruitlist)\n",
    "myfruitlist[1]=\"yo\"\n"
   ]
  },
  {
   "cell_type": "code",
   "execution_count": 11,
   "metadata": {},
   "outputs": [
    {
     "name": "stdout",
     "output_type": "stream",
     "text": [
      "b'\\x00\\x00\\x00\\x00\\x00'\n"
     ]
    }
   ],
   "source": [
    "size=5\n",
    "arr=bytes(size)\n",
    "print(arr)"
   ]
  },
  {
   "cell_type": "code",
   "execution_count": 18,
   "metadata": {},
   "outputs": [
    {
     "name": "stdout",
     "output_type": "stream",
     "text": [
      "b'\\xff\\xfet\\x00y\\x00u\\x00i\\x00 \\x00n\\x00a\\x00j\\x00j\\x00j\\x00g\\x00j\\x00 \\x00i\\x00s\\x00'\n"
     ]
    }
   ],
   "source": [
    "yo=\"tyui najjjgj is\"\n",
    "arr1=bytes(yo,'utf-16')\n",
    "print(arr1)"
   ]
  },
  {
   "cell_type": "code",
   "execution_count": 16,
   "metadata": {},
   "outputs": [
    {
     "name": "stdout",
     "output_type": "stream",
     "text": [
      "bytearray(b'\\x00\\x00\\x00')\n",
      "bytearray(b'\\x00M\\x00')\n"
     ]
    }
   ],
   "source": [
    "#byte array\n",
    "size=3\n",
    "#will create an array of given size and intialize with null bytes\n",
    "array1=bytearray(size)\n",
    "print(array1)\n",
    "array1[1]=77\n",
    "print(array1)\n"
   ]
  },
  {
   "cell_type": "code",
   "execution_count": null,
   "metadata": {},
   "outputs": [],
   "source": [
    "#memoryViewer allows read & write access to abjects bytes oriented data \n",
    "str22='demo'\n",
    "bytes"
   ]
  },
  {
   "cell_type": "code",
   "execution_count": 19,
   "metadata": {},
   "outputs": [],
   "source": [
    "#Generate random Numbers\n",
    "import random\n",
    "\n",
    "\n"
   ]
  },
  {
   "cell_type": "code",
   "execution_count": 27,
   "metadata": {},
   "outputs": [
    {
     "name": "stdout",
     "output_type": "stream",
     "text": [
      "177\n"
     ]
    }
   ],
   "source": [
    "print(random.randrange(1,180))"
   ]
  },
  {
   "cell_type": "code",
   "execution_count": 21,
   "metadata": {},
   "outputs": [
    {
     "name": "stdout",
     "output_type": "stream",
     "text": [
      "winner is 763\n",
      "winner is 222\n"
     ]
    }
   ],
   "source": [
    "winner=random.randrange(-1,1100)\n",
    "re=222\n",
    "print(\"winner is\",winner)\n",
    "print(\"winner is\",re)"
   ]
  },
  {
   "cell_type": "markdown",
   "metadata": {},
   "source": [
    "# String"
   ]
  },
  {
   "cell_type": "code",
   "execution_count": 39,
   "metadata": {},
   "outputs": [
    {
     "name": "stdout",
     "output_type": "stream",
     "text": [
      "YOGESH YO\n"
     ]
    }
   ],
   "source": [
    "nm=\"YOGESH\"\n",
    "nm1='YO'\n",
    "print(nm,nm1)"
   ]
  },
  {
   "cell_type": "code",
   "execution_count": 40,
   "metadata": {},
   "outputs": [
    {
     "name": "stdout",
     "output_type": "stream",
     "text": [
      "\n",
      "hgasyugveh\n",
      "heuvcu\n",
      "hsygdf\n",
      "jheruirsyt98ij\n",
      "hefhei\n",
      "yrieusfyil\n",
      "\n"
     ]
    }
   ],
   "source": [
    "#string are nothing but array of character \n",
    "str66=\"\"\"\n",
    "hgasyugveh\n",
    "heuvcu\n",
    "hsygdf\n",
    "jheruirsyt98ij\n",
    "hefhei\n",
    "yrieusfyil\n",
    "\"\"\"\n",
    "print(str66)"
   ]
  },
  {
   "cell_type": "code",
   "execution_count": 1,
   "metadata": {},
   "outputs": [
    {
     "name": "stdout",
     "output_type": "stream",
     "text": [
      "\"fantastic\"\"fantastic\"\"fantastic\"\"fantastic\"\"fantastic\"\"fantastic\"\"fantastic\"\"fantastic\"\"fantastic\"\"fantastic\"\n"
     ]
    }
   ],
   "source": [
    "ff='\"fantastic\"'\n",
    "print(10*ff)"
   ]
  },
  {
   "cell_type": "code",
   "execution_count": 57,
   "metadata": {},
   "outputs": [
    {
     "name": "stdout",
     "output_type": "stream",
     "text": [
      "h\n"
     ]
    }
   ],
   "source": [
    "#Accessing String element\n",
    "ss=\"rah ghsdvgu d\"\n",
    "print(ss[2])"
   ]
  },
  {
   "cell_type": "code",
   "execution_count": 58,
   "metadata": {},
   "outputs": [
    {
     "data": {
      "text/plain": [
       "'h ghsdvgu d'"
      ]
     },
     "execution_count": 58,
     "metadata": {},
     "output_type": "execute_result"
    }
   ],
   "source": [
    "ss[2:]"
   ]
  },
  {
   "cell_type": "code",
   "execution_count": 59,
   "metadata": {},
   "outputs": [
    {
     "data": {
      "text/plain": [
       "'h ghs'"
      ]
     },
     "execution_count": 59,
     "metadata": {},
     "output_type": "execute_result"
    }
   ],
   "source": [
    "ss[2:7]"
   ]
  },
  {
   "cell_type": "code",
   "execution_count": 60,
   "metadata": {},
   "outputs": [
    {
     "data": {
      "text/plain": [
       "13"
      ]
     },
     "execution_count": 60,
     "metadata": {},
     "output_type": "execute_result"
    }
   ],
   "source": [
    "len(ss)"
   ]
  },
  {
   "cell_type": "code",
   "execution_count": 61,
   "metadata": {},
   "outputs": [
    {
     "data": {
      "text/plain": [
       "'rah ghsd'"
      ]
     },
     "execution_count": 61,
     "metadata": {},
     "output_type": "execute_result"
    }
   ],
   "source": [
    "ss[-13:-5]"
   ]
  },
  {
   "cell_type": "code",
   "execution_count": 62,
   "metadata": {},
   "outputs": [],
   "source": [
    "###String methods"
   ]
  },
  {
   "cell_type": "code",
   "execution_count": 64,
   "metadata": {},
   "outputs": [
    {
     "name": "stdout",
     "output_type": "stream",
     "text": [
      "hello world !!\n"
     ]
    }
   ],
   "source": [
    "nma=\"  hello world !! \"\n",
    "#1.Strip method \n",
    "print(nma.strip())"
   ]
  },
  {
   "cell_type": "code",
   "execution_count": 65,
   "metadata": {},
   "outputs": [
    {
     "name": "stdout",
     "output_type": "stream",
     "text": [
      "  HELLO WORLD !! \n"
     ]
    }
   ],
   "source": [
    "#2.Upper Method \n",
    "print(nma.upper())"
   ]
  },
  {
   "cell_type": "code",
   "execution_count": 66,
   "metadata": {},
   "outputs": [
    {
     "name": "stdout",
     "output_type": "stream",
     "text": [
      "  hello world !! \n"
     ]
    }
   ],
   "source": [
    "#3.Lower method\n",
    "print(nma.lower())"
   ]
  },
  {
   "cell_type": "code",
   "execution_count": 67,
   "metadata": {},
   "outputs": [
    {
     "name": "stdout",
     "output_type": "stream",
     "text": [
      "  Hello world !! \n"
     ]
    }
   ],
   "source": [
    "#4.Replace method\n",
    "print(nma.replace('h','H'))"
   ]
  },
  {
   "cell_type": "code",
   "execution_count": 22,
   "metadata": {},
   "outputs": [
    {
     "name": "stdout",
     "output_type": "stream",
     "text": [
      "Hello,ehy\n",
      "Hello\n",
      "ehy\n"
     ]
    }
   ],
   "source": [
    "#5.Split method\n",
    "nmaa=\"Hello,ehy\"\n",
    "print(nmaa)\n",
    "nmm1,nmm2=nmaa.split(\",\")\n",
    "print(nmm1)\n",
    "print(nmm2)\n"
   ]
  },
  {
   "cell_type": "code",
   "execution_count": 23,
   "metadata": {},
   "outputs": [
    {
     "name": "stdout",
     "output_type": "stream",
     "text": [
      "yuoghdeyhkfyfbdj\n",
      "yuo99999 ghdeyh kfyfbdj\n"
     ]
    }
   ],
   "source": [
    "#6.concatination\n",
    "s7=\"yuo\"\n",
    "s333=\"ghdeyh\"\n",
    "s12=\"kfyfbdj\"\n",
    "r=s7+s333+s12\n",
    "print(r)\n",
    "s=s7+\"99999 \"+s333+\" \"+s12\n",
    "print(s)"
   ]
  },
  {
   "cell_type": "code",
   "execution_count": 3,
   "metadata": {},
   "outputs": [
    {
     "name": "stdout",
     "output_type": "stream",
     "text": [
      "i have ordered {1}\n"
     ]
    }
   ],
   "source": [
    "q=12\n",
    "p=44\n",
    "ino=33\n",
    "order=\"i have ordered {1}\"\n",
    "print(order)"
   ]
  },
  {
   "cell_type": "code",
   "execution_count": 35,
   "metadata": {},
   "outputs": [
    {
     "name": "stdout",
     "output_type": "stream",
     "text": [
      "My name is yogesh \n",
      "My surname is Dadas\n",
      "--------------------------------\n",
      "My name isyogesh\n",
      "My surname isDadas\n"
     ]
    }
   ],
   "source": [
    "nm=\"yogesh\"\n",
    "nn=\"Dadas\"\n",
    "print(\"My name is\",nm,\"\\nMy surname is\",nn)\n",
    "print(\"--------------------------------\")\n",
    "print(\"My name is\"+nm+\"\\nMy surname is\"+nn)"
   ]
  }
 ],
 "metadata": {
  "kernelspec": {
   "display_name": "Python 3",
   "language": "python",
   "name": "python3"
  },
  "language_info": {
   "codemirror_mode": {
    "name": "ipython",
    "version": 3
   },
   "file_extension": ".py",
   "mimetype": "text/x-python",
   "name": "python",
   "nbconvert_exporter": "python",
   "pygments_lexer": "ipython3",
   "version": "3.7.4"
  }
 },
 "nbformat": 4,
 "nbformat_minor": 2
}
