{
 "cells": [
  {
   "cell_type": "markdown",
   "metadata": {},
   "source": [
    "# IF Block\n"
   ]
  },
  {
   "cell_type": "code",
   "execution_count": 1,
   "metadata": {},
   "outputs": [
    {
     "name": "stdout",
     "output_type": "stream",
     "text": [
      "Enter your cibil score787\n",
      "Your score is good you can get loan & thank u to Visit\n"
     ]
    }
   ],
   "source": [
    "x=int(input(\"Enter your cibil score\"))\n",
    "if x>700:\n",
    "    print(\"Your score is good you can get loan & thank u to Visit\")\n",
    "else:\n",
    "    print(\"Sorry you can not get loan\")"
   ]
  },
  {
   "cell_type": "code",
   "execution_count": 18,
   "metadata": {},
   "outputs": [
    {
     "name": "stdout",
     "output_type": "stream",
     "text": [
      "Enter a no.76\n",
      "NP\n"
     ]
    }
   ],
   "source": [
    "#WAP for Prime Number\n",
    "x=int(input(\"Enter a no.\"))\n",
    "if x>1:\n",
    "    for i in range(2,x):\n",
    "        if (x%i)==0:\n",
    "            print(\"NP\")\n",
    "            break\n",
    "    else:\n",
    "            print(\"P\")\n",
    "            \n",
    "else:\n",
    "    (x,\"NP\")"
   ]
  },
  {
   "cell_type": "code",
   "execution_count": 19,
   "metadata": {},
   "outputs": [
    {
     "name": "stdout",
     "output_type": "stream",
     "text": [
      "Entyer cibil score 760\n",
      "Enter Ur Salary500000\n",
      "Enter total accets300000\n",
      "Loan Granted\n"
     ]
    }
   ],
   "source": [
    "c=int(input(\"Entyer cibil score \"))\n",
    "s=int(input(\"Enter Ur Salary\"))\n",
    "a=int(input(\"Enter total accets\"))\n",
    "if c>=700:\n",
    "    if s>=50000:\n",
    "        print(\"Loan Granted\")\n",
    "    else:\n",
    "        print(\"Application forworded to bank mannager\")\n",
    "else:\n",
    "    if c>=100000:\n",
    "        print(\"Application forworded to bank mannager\")\n",
    "    else:\n",
    "        print(\"Loan regected\")"
   ]
  },
  {
   "cell_type": "markdown",
   "metadata": {},
   "source": [
    "- if elif else Ladder\n",
    "- If we have more than 2 condition ,we have elif else ladder\n",
    "- WAP for Dish Tv repairing service ask user his name ,his dish Tv manufacturer name and type of probles\n"
   ]
  },
  {
   "cell_type": "code",
   "execution_count": 2,
   "metadata": {},
   "outputs": [
    {
     "name": "stdout",
     "output_type": "stream",
     "text": [
      "Welcome to DHDish Tv centre\n",
      "Enter ur NameYogesh\n",
      "Enter ur dhish tv manufacturer nameAirtel\n",
      "Enter ur Probleshfduih ushfuis iufsfc\n",
      "Welcome to Airtel\n",
      "Enter ur customer ID4321471\n",
      "Please wait...... we are checking ur problrm for ID: 4321471\n"
     ]
    }
   ],
   "source": [
    "\n",
    "print(\"Welcome to DHDish Tv centre\")\n",
    "n=(input(\"Enter ur Name\"))\n",
    "d=input(\"Enter ur dhish tv manufacturer name\")\n",
    "tp=input(\"Enter ur Probles\")\n",
    "if d == 'Airtel':\n",
    "    print(\"Welcome to Airtel\")\n",
    "    cus_id=int(input(\"Enter ur customer ID\"))\n",
    "    print(\"Please wait...... we are checking ur problrm for ID:\",cus_id)\n",
    "elif d=='voda':\n",
    "    print(\"Welcome to Vodafone/Idea\")\n",
    "    cus_id=int(input(\"Enter ur customer ID\"))\n",
    "    print(\"Please wait...... we are checking ur problrm for ID:\",cus_id)\n",
    "elif d=='Jio':\n",
    "    print(\"Welcome to JIO\")\n",
    "    cus_id=int(input(\"Enter ur customer ID\"))\n",
    "    print(\"Please wait...... we are checking ur problrm for ID:\",cus_id)\n",
    "else:\n",
    "    print(\"Welcome to our Network\")\n",
    "    cus_id=int(input(\"Enter ur customer ID\"))  \n",
    "    #for Dish tv and other \n",
    "    print(\"Please wait...... we are checking ur problrm for ID:\",cus_id)\n",
    "    \n"
   ]
  },
  {
   "cell_type": "code",
   "execution_count": 27,
   "metadata": {},
   "outputs": [
    {
     "name": "stdout",
     "output_type": "stream",
     "text": [
      "Given value is Unknown\n"
     ]
    }
   ],
   "source": [
    "#WAP to accept input from user and print datatype\n",
    "val=b'fghf'\n",
    "if type(val)==int:\n",
    "    print(\"Given value is Int\")\n",
    "elif type(val)==bool:\n",
    "    print(\"Given value is Boolean\")\n",
    "elif  type(val)==str:\n",
    "    print(\"Given value is String\")\n",
    "\n",
    "elif  type(val)==float:\n",
    "    print(\"Given value is Float\") \n",
    "elif  type(val)==complex:\n",
    "    print(\"Given value is Complex\") \n",
    "\n",
    "else:\n",
    "    print(\"Given value is Unknown\")\n",
    "    \n"
   ]
  },
  {
   "cell_type": "markdown",
   "metadata": {},
   "source": [
    "# Loops  \n",
    " ####  It is use to excute sets of statement specified number of times \n",
    "- In python we have 2 loops \n",
    "1. For loop\n",
    "2. while\n",
    "# For loop\n",
    "- It is use to itreate bunch of statement \n",
    "- It can be used to iterate each element from list,tuple,set, dictionary,and other objets \n",
    "- Syntax is given below\n",
    "\n"
   ]
  },
  {
   "cell_type": "code",
   "execution_count": 32,
   "metadata": {},
   "outputs": [
    {
     "name": "stdout",
     "output_type": "stream",
     "text": [
      "hDSTGY AHSGD ASDYHUIH AJSGDY \n",
      "------------------\n",
      "hDSTGY\n",
      "AHSGD\n",
      "ASDYHUIH\n",
      "AJSGDY\n"
     ]
    }
   ],
   "source": [
    "stu_list=[\"hDSTGY\",'AHSGD',\"ASDYHUIH\",\"AJSGDY\"]\n",
    "for i in stu_list:\n",
    "    print(i,end=\" \")\n",
    "print(\"\\n------------------\")\n",
    "for i in stu_list:\n",
    "    print(i)"
   ]
  },
  {
   "cell_type": "code",
   "execution_count": 38,
   "metadata": {},
   "outputs": [
    {
     "name": "stdout",
     "output_type": "stream",
     "text": [
      "hDSTGY\n",
      "AHSGD\n",
      "ASDYHUIH\n",
      "---------------------------------\n",
      "hDSTGY\n",
      "AHSGD\n"
     ]
    }
   ],
   "source": [
    "#How to use break  \n",
    "for i in stu_list:\n",
    "    print(i)\n",
    "    if i== \"ASDYHUIH\":\n",
    "        break\n",
    "        \n",
    "print(\"---------------------------------\")\n",
    "for i in stu_list:\n",
    "    if i== \"ASDYHUIH\":\n",
    "        break\n",
    "    print(i)"
   ]
  },
  {
   "cell_type": "code",
   "execution_count": 41,
   "metadata": {},
   "outputs": [
    {
     "name": "stdout",
     "output_type": "stream",
     "text": [
      "AHSGD\n",
      "AJSGDY\n"
     ]
    }
   ],
   "source": [
    "#How to use continue   ----Continue use to skip current Iteration &it will excute next iterations\n",
    "stu_list=[\"hDSTGY\",'AHSGD',\"ASDYHUIH\",\"AJSGDY\"]\n",
    "for i in stu_list:\n",
    "    if i== \"ASDYHUIH\" or i==\"hDSTGY\":\n",
    "        continue\n",
    "    print(i)    "
   ]
  },
  {
   "cell_type": "markdown",
   "metadata": {},
   "source": [
    "## Pass keyword\n",
    "- This key word is use when loop can't do anything|"
   ]
  },
  {
   "cell_type": "code",
   "execution_count": 42,
   "metadata": {},
   "outputs": [],
   "source": [
    "for i in stu_list:\n",
    "    pass"
   ]
  },
  {
   "cell_type": "markdown",
   "metadata": {},
   "source": [
    "## Range Fuction in for loop\n"
   ]
  },
  {
   "cell_type": "code",
   "execution_count": 56,
   "metadata": {},
   "outputs": [
    {
     "name": "stdout",
     "output_type": "stream",
     "text": [
      "350 Hii 345 Hii 340 Hii 335 Hii 330 Hii 325 Hii 320 Hii 315 Hii 310 Hii 305 Hii 300 Hii 295 Hii 290 Hii 285 Hii 280 Hii 275 Hii 270 Hii 265 Hii 260 Hii 255 Hii 250 Hii "
     ]
    }
   ],
   "source": [
    "#Print Hii .... times\n",
    "for i in range(351,250,-5):\n",
    "    print((i-1),\"Hii\",end=\" \")"
   ]
  },
  {
   "cell_type": "code",
   "execution_count": 57,
   "metadata": {},
   "outputs": [
    {
     "name": "stdout",
     "output_type": "stream",
     "text": [
      "701 Hiii\n",
      "703 Hiii\n",
      "705 Hiii\n",
      "707 Hiii\n",
      "709 Hiii\n",
      "711 Hiii\n",
      "713 Hiii\n",
      "715 Hiii\n",
      "717 Hiii\n",
      "719 Hiii\n",
      "721 Hiii\n",
      "723 Hiii\n",
      "725 Hiii\n",
      "727 Hiii\n",
      "729 Hiii\n",
      "731 Hiii\n",
      "733 Hiii\n",
      "735 Hiii\n",
      "737 Hiii\n",
      "739 Hiii\n",
      "741 Hiii\n",
      "743 Hiii\n",
      "745 Hiii\n",
      "747 Hiii\n",
      "749 Hiii\n",
      "751 Hiii\n",
      "753 Hiii\n",
      "755 Hiii\n",
      "757 Hiii\n",
      "759 Hiii\n",
      "761 Hiii\n",
      "763 Hiii\n",
      "765 Hiii\n",
      "767 Hiii\n",
      "769 Hiii\n",
      "771 Hiii\n",
      "773 Hiii\n",
      "775 Hiii\n",
      "777 Hiii\n",
      "779 Hiii\n",
      "781 Hiii\n",
      "783 Hiii\n",
      "785 Hiii\n",
      "787 Hiii\n",
      "789 Hiii\n",
      "791 Hiii\n",
      "793 Hiii\n",
      "795 Hiii\n",
      "797 Hiii\n",
      "799 Hiii\n"
     ]
    }
   ],
   "source": [
    "#WAP for ODD number\n",
    "for i in range(700,800):\n",
    "    if i%2==1:\n",
    "        print(i,\"Hiii\")"
   ]
  },
  {
   "cell_type": "code",
   "execution_count": 5,
   "metadata": {},
   "outputs": [
    {
     "name": "stdout",
     "output_type": "stream",
     "text": [
      "63 126 189 252 315 378 441 "
     ]
    }
   ],
   "source": [
    "#print no.which are either multiple of 7 and 9 in rage of 500\n",
    "for i in range(1,500):\n",
    "    if (i%7==0 and i%9==0):\n",
    "        print(i,end=\" \")"
   ]
  },
  {
   "cell_type": "markdown",
   "metadata": {},
   "source": [
    "## Nested for\n"
   ]
  },
  {
   "cell_type": "code",
   "execution_count": 14,
   "metadata": {},
   "outputs": [
    {
     "name": "stdout",
     "output_type": "stream",
     "text": [
      "c --> Yogesh\n",
      "c --> Avishkar\n",
      "c --> Prathmesh\n",
      " \n",
      "java --> Yogesh\n",
      "java --> Avishkar\n",
      "java --> Prathmesh\n",
      " \n",
      "c++ --> Yogesh\n",
      "c++ --> Avishkar\n",
      "c++ --> Prathmesh\n",
      " \n",
      "Cobol --> Yogesh\n",
      "Cobol --> Avishkar\n",
      "Cobol --> Prathmesh\n",
      " \n",
      "alogo --> Yogesh\n",
      "alogo --> Avishkar\n",
      "alogo --> Prathmesh\n",
      " \n",
      "Pascal --> Yogesh\n",
      "Pascal --> Avishkar\n",
      "Pascal --> Prathmesh\n",
      " \n",
      "Python --> Yogesh\n",
      "Python --> Avishkar\n",
      "Python --> Prathmesh\n",
      " \n"
     ]
    }
   ],
   "source": [
    "#Find cartesion product \n",
    "list1=[\"c\",\"java\",\"c++\",\"Cobol\",\"alogo\",\"Pascal\",\"Python\"]\n",
    "list2=[\"Yogesh\",\"Avishkar\",\"Prathmesh\"]\n",
    "for i in list1:\n",
    "    for j in list2:\n",
    "        print(i,\"-->\",j)\n",
    "    print(\" \")"
   ]
  },
  {
   "cell_type": "markdown",
   "metadata": {},
   "source": [
    "### Else in for loop\n"
   ]
  },
  {
   "cell_type": "code",
   "execution_count": 19,
   "metadata": {},
   "outputs": [
    {
     "name": "stdout",
     "output_type": "stream",
     "text": [
      "c --> Yogesh\n",
      "c --> Avishkar\n",
      "c --> Prathmesh\n",
      " \n",
      "java --> Yogesh\n",
      "java --> Avishkar\n",
      "java --> Prathmesh\n",
      " \n",
      "c++ --> Yogesh\n",
      "c++ --> Avishkar\n",
      "c++ --> Prathmesh\n",
      " \n",
      "Cobol --> Yogesh\n",
      "Cobol --> Avishkar\n",
      "Cobol --> Prathmesh\n",
      " \n",
      "alogo --> Yogesh\n",
      "alogo --> Avishkar\n",
      "alogo --> Prathmesh\n",
      " \n",
      "Pascal --> Yogesh\n",
      "Pascal --> Avishkar\n",
      "Pascal --> Prathmesh\n",
      " \n",
      "Python --> Yogesh\n",
      "Python --> Avishkar\n",
      "Python --> Prathmesh\n",
      " \n",
      "Finally done\n"
     ]
    }
   ],
   "source": [
    "#how to use else in loop \n",
    "list1=[\"c\",\"java\",\"c++\",\"Cobol\",\"alogo\",\"Pascal\",\"Python\"]\n",
    "list2=[\"Yogesh\",\"Avishkar\",\"Prathmesh\"]\n",
    "for i in list1:\n",
    "    for j in list2:\n",
    "        print(i,\"-->\",j)\n",
    "    print(\" \")\n",
    "    \n",
    "else:\n",
    "    print(\"Finally done\")"
   ]
  },
  {
   "cell_type": "markdown",
   "metadata": {},
   "source": [
    "# While Loop \n"
   ]
  },
  {
   "cell_type": "code",
   "execution_count": 24,
   "metadata": {},
   "outputs": [
    {
     "name": "stdout",
     "output_type": "stream",
     "text": [
      "1\n",
      "2\n",
      "3\n",
      "4\n",
      "5\n",
      "6\n",
      "7\n",
      "8\n",
      "9\n",
      "10\n"
     ]
    }
   ],
   "source": [
    "#WAP to print 1 to 10 using while loop\n",
    "i=1\n",
    "while i<=10:\n",
    "    print(i)\n",
    "    i+=1"
   ]
  },
  {
   "cell_type": "code",
   "execution_count": 2,
   "metadata": {},
   "outputs": [
    {
     "name": "stdout",
     "output_type": "stream",
     "text": [
      "10\n",
      "9\n",
      "8\n",
      "7\n",
      "6\n",
      "5\n",
      "4\n",
      "3\n",
      "2\n",
      "1\n",
      "0\n"
     ]
    }
   ],
   "source": [
    "i=10\n",
    "while i>=0:\n",
    "    print(i)\n",
    "    i-=1"
   ]
  },
  {
   "cell_type": "code",
   "execution_count": 41,
   "metadata": {},
   "outputs": [
    {
     "name": "stdout",
     "output_type": "stream",
     "text": [
      "21 22 23 24 26 28 29 31 32 33 34 36 38 39 41 42 43 44 46 48 49 51 52 53 54 56 57 58 59 61 62 63 64 66 67 68 69 71 72 73 74 76 77 78 79 81 82 83 84 86 87 88 89 91 92 93 94 96 97 98 99 \n",
      " [21, 22, 23, 24, 26, 28, 29, 31, 32, 33, 34, 36, 38, 39, 41, 42, 43, 44, 46, 48, 49, 51, 52, 53, 54, 56, 57, 58, 59, 61, 62, 63, 64, 66, 67, 68, 69, 71, 72, 73, 74, 76, 77, 78, 79, 81, 82, 83, 84, 86, 87, 88, 89, 91, 92, 93, 94, 96, 97, 98, 99]\n",
      "Lenth= 61\n"
     ]
    }
   ],
   "source": [
    "i=20\n",
    "list1=[]\n",
    "while i<100:\n",
    "        i=i+1\n",
    "        if i%5!=0:\n",
    "            \n",
    "            if(i==27 ):\n",
    "                continue\n",
    "            if i==47:\n",
    "                continue\n",
    "            if i==37:\n",
    "                continue\n",
    "            print(i,end=\" \")\n",
    "            list1.append(i)\n",
    "print(\"\\n\",list1)\n",
    "print(\"Lenth=\",len(list1))"
   ]
  },
  {
   "cell_type": "code",
   "execution_count": null,
   "metadata": {},
   "outputs": [],
   "source": [
    "#design Login form for KBC which accept user name & pass if both are correct allows login and play Queez if credentials are wrong ,display login fails\n",
    "i=1\n",
    "while i<=3:\n",
    "    x=input(\"Enter username\")\n",
    "    y=input(\"Enter password\")\n",
    "    tuple1=(\"Yogesh\")\n",
    "    passw=(\"Yogesh123\")\n",
    "    if x==tuple1:\n",
    "        if y==passw:\n",
    "            print(\"You are eligible to play Queez\")\n",
    "        else:\n",
    "            print(\"Wrong password\")\n",
    "    else:\n",
    "        print(\"Wrong Username....Please try again\")\n",
    "        \n",
    "    i=i+1\n",
    "print(\"Login Fails\")    \n",
    "    "
   ]
  },
  {
   "cell_type": "code",
   "execution_count": null,
   "metadata": {},
   "outputs": [],
   "source": [
    "#design Login form for KBC which accept user name & pass if both are correct allows login and play Queez if credentials are wrong ,display login fails\n",
    "i=1\n",
    "while i<=3:\n",
    "    x=input(\"Enter username\")\n",
    "    y=input(\"Enter password\")\n",
    "    tuple1=(\"Yogesh\")\n",
    "    passw=(\"Yogesh123\")\n",
    "    if x==tuple1:\n",
    "        if y==passw:\n",
    "            print(\"You are eligible to play Queez\")\n",
    "        else:\n",
    "            print(\"Wrong password\")\n",
    "    else:\n",
    "        print(\"Wrong Username....Please try again\")\n",
    "        \n",
    "   i=i+1\n",
    "print(\"Login Fails\")    \n",
    "    "
   ]
  },
  {
   "cell_type": "code",
   "execution_count": 9,
   "metadata": {},
   "outputs": [
    {
     "name": "stdout",
     "output_type": "stream",
     "text": [
      "Enter usernametygew\n",
      "Enter passwordYogesh123\n",
      "Wrong Username....Please try again\n"
     ]
    }
   ],
   "source": [
    "#design Login form for KBC which accept user name & pass if both are correct allows login and play Queez if credentials are wrong ,display login fails)\n",
    "x=input(\"Enter username\")\n",
    "y=input(\"Enter password\")\n",
    "tuple1=(\"Yogesh\")\n",
    "passw=(\"Yogesh123\")\n",
    "if x==tuple1:\n",
    "        if y==passw:\n",
    "            print(\"You are eligible to play Queez\")\n",
    "            print(\"---Welcome to KBC----\")\n",
    "            print(\"You have to give 2 ans. and you are winnwer of KBC\")\n",
    "            \n",
    "        else:\n",
    "            print(\"Wrong password\")\n",
    "elif x!=tuple and y==passw:\n",
    "        print(\"Wrong Username....Please try again\")\n",
    "else:\n",
    "    print(\"Login Fails\") \n",
    "\n",
    "    "
   ]
  },
  {
   "cell_type": "code",
   "execution_count": null,
   "metadata": {},
   "outputs": [],
   "source": []
  }
 ],
 "metadata": {
  "kernelspec": {
   "display_name": "Python 3",
   "language": "python",
   "name": "python3"
  },
  "language_info": {
   "codemirror_mode": {
    "name": "ipython",
    "version": 3
   },
   "file_extension": ".py",
   "mimetype": "text/x-python",
   "name": "python",
   "nbconvert_exporter": "python",
   "pygments_lexer": "ipython3",
   "version": "3.7.4"
  }
 },
 "nbformat": 4,
 "nbformat_minor": 2
}
