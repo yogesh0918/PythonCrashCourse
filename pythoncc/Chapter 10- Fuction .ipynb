{
 "cells": [
  {
   "cell_type": "markdown",
   "metadata": {},
   "source": [
    "# Fuction \n",
    "- What is Fuction\n",
    "- Function is set of statement written in specific order to complete a specific task \n",
    "- def keyword is used to create / define fuction \n",
    "- why to write fucntion ?\n",
    "- if we write all code together ,it's going to be very complex ,it will difficult to understand ,read & modify\n",
    "- Fuction is basically create as: "
   ]
  },
  {
   "cell_type": "code",
   "execution_count": 1,
   "metadata": {},
   "outputs": [],
   "source": [
    "def yo():    #Function define \\ create\n",
    "    print(\"yui\")"
   ]
  },
  {
   "cell_type": "code",
   "execution_count": 2,
   "metadata": {},
   "outputs": [
    {
     "name": "stdout",
     "output_type": "stream",
     "text": [
      "yui\n"
     ]
    }
   ],
   "source": [
    "yo()  #Function call without arrgument "
   ]
  },
  {
   "cell_type": "code",
   "execution_count": 34,
   "metadata": {},
   "outputs": [
    {
     "name": "stdout",
     "output_type": "stream",
     "text": [
      "Enter 1st no2\n",
      "Enter 2nd no3\n",
      "Addition= 5\n",
      "Sub= -1\n",
      "Multiplication= 6\n",
      "Division= 0.6666666666666666\n",
      "Remainder= 2\n",
      "Exponesial= 8 \n",
      "Flore Division= 0\n"
     ]
    }
   ],
   "source": [
    "#WAP using function for arrithmetic operator\n",
    "def add(a,b):\n",
    "    c=a+b\n",
    "    print(\"Addition=\",c)\n",
    "def sub(a,b):\n",
    "    c=a-b\n",
    "    print(\"Sub=\",c)\n",
    "def mult(a,b):\n",
    "    return a*b\n",
    "    \n",
    "def div(a,b):\n",
    "    c=a/b\n",
    "    print(\"Division=\",c) \n",
    "def mod(a,b):\n",
    "    c=a%b\n",
    "    print(\"Remainder=\",c) \n",
    "def exp_flore_div(a,b):\n",
    "    c=a**b\n",
    "    \n",
    "    d=a//b \n",
    "    return c,d\n",
    "a=int(input(\"Enter 1st no\")) \n",
    "b=int(input(\"Enter 2nd no\")) \n",
    "add(a,b)\n",
    "sub(a,b)\n",
    "m=mult(a,b)\n",
    "print(\"Multiplication=\",m) \n",
    "div(a,b)\n",
    "mod(a,b)\n",
    "exp,flore_division=exp_flore_div(a,b)\n",
    "print(\"Exponesial=\",exp,\"\\nFlore Division=\",flore_division)\n",
    "\n",
    "\n",
    "\n",
    "    "
   ]
  },
  {
   "cell_type": "code",
   "execution_count": 15,
   "metadata": {},
   "outputs": [
    {
     "name": "stdout",
     "output_type": "stream",
     "text": [
      "Enter name Yogesh\n",
      "Yogesh\n"
     ]
    }
   ],
   "source": [
    "def yi(a):\n",
    "    print(a)\n",
    "x=input(\"Enter name \")\n",
    "yi(x)"
   ]
  },
  {
   "cell_type": "code",
   "execution_count": 37,
   "metadata": {},
   "outputs": [
    {
     "name": "stdout",
     "output_type": "stream",
     "text": [
      "Enter 1st no2\n",
      "Enter 2nd no1\n",
      "1 2\n"
     ]
    }
   ],
   "source": [
    "#WAP a program to swapping without 3rd variable\n",
    "def swap(a,b):\n",
    "    a=a+b  \n",
    "    b=a-b   \n",
    "    a=a-b    \n",
    "    print(a,b)\n",
    "\n",
    "\n",
    "a=int(input(\"Enter 1st no\")) \n",
    "b=int(input(\"Enter 2nd no\")) \n",
    "swap(a,b)"
   ]
  },
  {
   "cell_type": "code",
   "execution_count": 47,
   "metadata": {},
   "outputs": [
    {
     "name": "stdout",
     "output_type": "stream",
     "text": [
      "('gdsj', 12)\n",
      "<class 'tuple'>\n"
     ]
    }
   ],
   "source": [
    "def my_f(*k):\n",
    "    print(k)\n",
    "    print(type(k))\n",
    "my_f(\"gdsj\",12)\n"
   ]
  },
  {
   "cell_type": "code",
   "execution_count": 1,
   "metadata": {},
   "outputs": [
    {
     "name": "stdout",
     "output_type": "stream",
     "text": [
      "Enter 1st no22\n",
      "Enter 2nd no33\n",
      "33 22\n",
      "22 33\n",
      "33 22\n"
     ]
    }
   ],
   "source": [
    "#WAP a program to swapping with 3rd variable\n",
    "def swap(a,b):\n",
    "    temp=a  \n",
    "    a=b\n",
    "    b=temp\n",
    "       \n",
    "    print(a,b)\n",
    "\n",
    "\n",
    "a=int(input(\"Enter 1st no\")) \n",
    "b=int(input(\"Enter 2nd no\")) \n",
    "swap(a,b)"
   ]
  },
  {
   "cell_type": "code",
   "execution_count": 2,
   "metadata": {},
   "outputs": [
    {
     "name": "stdout",
     "output_type": "stream",
     "text": [
      "Enter 1st no22\n",
      "Enter 2nd no33\n",
      "22 33\n",
      "33 22\n"
     ]
    }
   ],
   "source": [
    "#WAP a program to swapping variable\n",
    "def swap1(a,b):\n",
    "    print(a,b)\n",
    "    a,b=b,a\n",
    "    print(a,b)\n",
    "    \n",
    "    \n",
    "a=int(input(\"Enter 1st no\")) \n",
    "b=int(input(\"Enter 2nd no\")) \n",
    "swap1(a,b)"
   ]
  },
  {
   "cell_type": "markdown",
   "metadata": {},
   "source": [
    "### In python documentation arguments is referded args \n",
    "- arguments is refered --> args\n",
    "- arbitary arguments --> *args\n",
    "- keyword arguments --> kwargs"
   ]
  },
  {
   "cell_type": "markdown",
   "metadata": {},
   "source": [
    "# Keyword Arguments \n",
    "- Arguments passed using key-value pair\n"
   ]
  },
  {
   "cell_type": "code",
   "execution_count": 4,
   "metadata": {},
   "outputs": [
    {
     "name": "stdout",
     "output_type": "stream",
     "text": [
      "{'a': 'gfh', 'b': 'hbj'}\n",
      "<class 'dict'>\n",
      "{'a': 'gfh', 'b': 'hbj', 'f': 'gsj'}\n",
      "<class 'dict'>\n"
     ]
    }
   ],
   "source": [
    "def my_fu(**c2):\n",
    "    print(c2)\n",
    "    print(type(c2))\n",
    "\n",
    "my_fu(a=\"gfh\",b=\"hbj\")\n",
    "my_fu(a=\"gfh\",b=\"hbj\",f=\"gsj\")\n",
    "\n",
    "\n"
   ]
  },
  {
   "cell_type": "code",
   "execution_count": 7,
   "metadata": {},
   "outputs": [
    {
     "name": "stdout",
     "output_type": "stream",
     "text": [
      "['mango', 'banana', 'apple']\n",
      "('mango', 'banana', 'apple')\n",
      "{'apple', 'banana', 'mango'}\n"
     ]
    }
   ],
   "source": [
    "# Passing List or any other object asparameter\n",
    "fl=[\"mango\",\"banana\",\"apple\"]\n",
    "fs={\"mango\",\"banana\",\"apple\"}\n",
    "ft=(\"mango\",\"banana\",\"apple\")\n",
    "def my_fun(a):\n",
    "    print(a)\n",
    "my_fun(fl)\n",
    "my_fun(ft)\n",
    "my_fun(fs)\n"
   ]
  },
  {
   "cell_type": "markdown",
   "metadata": {},
   "source": [
    "### Pass keyword in function \n",
    "- fuction with pass keyword it will not gives anything \n"
   ]
  },
  {
   "cell_type": "code",
   "execution_count": 6,
   "metadata": {},
   "outputs": [],
   "source": [
    "def lazy_fuc():\n",
    "    pass"
   ]
  },
  {
   "cell_type": "markdown",
   "metadata": {},
   "source": [
    "# Recursion "
   ]
  },
  {
   "cell_type": "code",
   "execution_count": 15,
   "metadata": {},
   "outputs": [
    {
     "name": "stdout",
     "output_type": "stream",
     "text": [
      "Enter no.3\n",
      "Factorial = 6\n"
     ]
    }
   ],
   "source": [
    "#WAP for facorial \n",
    "def fact(n):\n",
    "    if n==0:\n",
    "        return 1\n",
    "    elif n==1:\n",
    "        return 1\n",
    "    else:\n",
    "        return n*fact(n-1)\n",
    "n=int(input(\"Enter no.\"))\n",
    "Fact=fact(n)\n",
    "print(\"Factorial =\",Fact)"
   ]
  },
  {
   "cell_type": "markdown",
   "metadata": {},
   "source": [
    "## is python Call by value or call by reference\n",
    "- Python is call by object or call by reference or call by sharing or call by value "
   ]
  },
  {
   "cell_type": "code",
   "execution_count": 10,
   "metadata": {},
   "outputs": [
    {
     "name": "stdout",
     "output_type": "stream",
     "text": [
      "Enter value2\n",
      "Value od n= 2 \n",
      "Address of n= 140723464020400\n",
      "Sq= 4 \n",
      "Address of n= 140723464020464\n"
     ]
    }
   ],
   "source": [
    "#call by value  works on integers, strings, tuples,etc\n",
    "def my_sq(n):\n",
    "    n=n*n\n",
    "    print(\"Sq=\",n,\"\\nAdd. of n=\",id(n))\n",
    "n=int(input(\"Enter value\"))\n",
    "print(\"Value od n=\",n,\"\\nAdd. of n=\",id(n))\n",
    "my_sq(n)\n"
   ]
  },
  {
   "cell_type": "code",
   "execution_count": 22,
   "metadata": {},
   "outputs": [
    {
     "name": "stdout",
     "output_type": "stream",
     "text": [
      "Enter value3\n",
      "Value od n= 3 Add. of n= 140712465441232\n",
      "Sq= 3 Add. of n= 140712465441232\n"
     ]
    }
   ],
   "source": [
    "#call by reference works on integers, strings, tuples,etc\n",
    "def my_sq(n):\n",
    "    print(\"Sq=\",n,\"Add. of n=\",id(n))\n",
    "n=int(input(\"Enter value\"))\n",
    "print(\"Value od n=\",n,\"Add. of n=\",id(n))\n",
    "my_sq(n)\n"
   ]
  },
  {
   "cell_type": "code",
   "execution_count": 32,
   "metadata": {},
   "outputs": [
    {
     "name": "stdout",
     "output_type": "stream",
     "text": [
      "List1 before = [1, 2, 3, 4] Address = 488089506312\n",
      "List 1= [1, 2, 3, 4, 5] Address = 488089506312\n",
      "List1 after= [1, 2, 3, 4, 5] Address = 488089506312\n"
     ]
    }
   ],
   "source": [
    "#call by reference\n",
    "def list_modi(l):\n",
    "    l.append(5)\n",
    "    print(\"List 1=\",l,\"Address =\",id(l))\n",
    "list1=[1,2,3,4]\n",
    "print(\"List1 before =\",list1,\"Address =\",id(list1))\n",
    "list_modi(list1)\n",
    "print(\"List1 after=\",list1,\"Address =\",id(list1))\n",
    "\n"
   ]
  },
  {
   "cell_type": "markdown",
   "metadata": {},
   "source": [
    "# Main Function"
   ]
  },
  {
   "cell_type": "code",
   "execution_count": 15,
   "metadata": {},
   "outputs": [
    {
     "name": "stdout",
     "output_type": "stream",
     "text": [
      "Enter no. to square:1\n",
      "Square= 1\n"
     ]
    }
   ],
   "source": [
    "#this is program to find square  \n",
    "def sq(n):\n",
    "    return n*n\n",
    "def main():\n",
    "    n=int(input(\"Enter no. to square:\"))\n",
    "    s=sq(n)\n",
    "    print(\"Square=\",s)\n",
    "if __name__=='__main__':\n",
    "    main()"
   ]
  },
  {
   "cell_type": "markdown",
   "metadata": {},
   "source": [
    "#### name is global varible &if u want to execute yr program from main function ,uu have setv __name__='__main__'"
   ]
  },
  {
   "cell_type": "markdown",
   "metadata": {},
   "source": [
    "#### can we create main function?\n",
    "- Yes"
   ]
  },
  {
   "cell_type": "code",
   "execution_count": 12,
   "metadata": {},
   "outputs": [
    {
     "name": "stdout",
     "output_type": "stream",
     "text": [
      "This statement is written in main...\n"
     ]
    }
   ],
   "source": [
    "def main():\n",
    "    print(\"This statement is written in main...\")\n",
    "main()"
   ]
  },
  {
   "cell_type": "code",
   "execution_count": 14,
   "metadata": {},
   "outputs": [
    {
     "name": "stdout",
     "output_type": "stream",
     "text": [
      "Enter ur basic salary50000\n",
      "Enter ur dearness Allowance50000\n",
      "Enter ur hra5000\n",
      "Enter taxes u have to pay10000\n",
      "Net salary of employee = 95000.0\n"
     ]
    }
   ],
   "source": [
    "#WAP to calculate net salary of employe using main function\n",
    "def net_salary(bs,da,hra,tax):\n",
    "    return bs+da+hra-tax\n",
    "def main():\n",
    "    bs=float(input(\"Enter ur basic salary\"))\n",
    "    da=float(input(\"Enter ur dearness Allowance\"))\n",
    "    hra=float(input(\"Enter ur hra\"))\n",
    "    tax=float(input(\"Enter taxes u have to pay\"))\n",
    "    netsa=net_salary(bs,da,hra,tax)\n",
    "    print(\"Net salary of employee =\",netsa)\n",
    "if __name__=='__main__':\n",
    "    main()"
   ]
  },
  {
   "cell_type": "markdown",
   "metadata": {},
   "source": [
    "## Sleep submodule from time"
   ]
  },
  {
   "cell_type": "code",
   "execution_count": 17,
   "metadata": {},
   "outputs": [
    {
     "name": "stdout",
     "output_type": "stream",
     "text": [
      "Wait for 1 sec.\n",
      "0\n",
      "Thank u for waiting\n",
      "____________________________________________\n",
      "Wait for 1 sec.\n",
      "1\n",
      "Thank u for waiting\n",
      "____________________________________________\n",
      "Wait for 1 sec.\n",
      "2\n",
      "Thank u for waiting\n",
      "____________________________________________\n",
      "Wait for 1 sec.\n",
      "3\n",
      "Thank u for waiting\n",
      "____________________________________________\n",
      "Wait for 1 sec.\n",
      "4\n",
      "Thank u for waiting\n",
      "____________________________________________\n",
      "Wait for 1 sec.\n",
      "5\n",
      "Thank u for waiting\n",
      "____________________________________________\n"
     ]
    }
   ],
   "source": [
    "from time import sleep\n",
    "def main():\n",
    "    for i in range(6):\n",
    "        \n",
    "        print(\"Wait for 1 sec.\")\n",
    "        sleep(1)\n",
    "        print(i)\n",
    "        print(\"Thank u for waiting\")\n",
    "        print(\"____________________________________________\")\n",
    "if __name__=='__main__':\n",
    "    main()"
   ]
  },
  {
   "cell_type": "code",
   "execution_count": 5,
   "metadata": {},
   "outputs": [
    {
     "name": "stdout",
     "output_type": "stream",
     "text": [
      "0 1 2 3 4 5 6 7 8 9 10 11 12 13 14 15 16 17 18 19 20 21 22 23 24 25 26 27 28 29 30 31 32 33 34 35 36 37 38 39 40 41 42 43 44 45 46 47 48 49 50 51 52 53 54 55 56 57 58 59 60 "
     ]
    }
   ],
   "source": [
    "from time import sleep\n",
    "def main():\n",
    "    for i in range(61):\n",
    "        sleep(.1)\n",
    "        print(i,end=\" \")\n",
    "if __name__=='__main__':\n",
    "    main()"
   ]
  },
  {
   "cell_type": "code",
   "execution_count": null,
   "metadata": {},
   "outputs": [],
   "source": []
  }
 ],
 "metadata": {
  "kernelspec": {
   "display_name": "Python 3",
   "language": "python",
   "name": "python3"
  },
  "language_info": {
   "codemirror_mode": {
    "name": "ipython",
    "version": 3
   },
   "file_extension": ".py",
   "mimetype": "text/x-python",
   "name": "python",
   "nbconvert_exporter": "python",
   "pygments_lexer": "ipython3",
   "version": "3.7.4"
  }
 },
 "nbformat": 4,
 "nbformat_minor": 2
}
