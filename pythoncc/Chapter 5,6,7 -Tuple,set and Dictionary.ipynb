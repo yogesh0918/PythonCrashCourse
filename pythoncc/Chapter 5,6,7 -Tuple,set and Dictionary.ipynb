{
 "cells": [
  {
   "cell_type": "markdown",
   "metadata": {},
   "source": [
    "# Tuple \n",
    "- In tuple values are not directly change\n",
    "- It can be any type"
   ]
  },
  {
   "cell_type": "markdown",
   "metadata": {},
   "source": [
    "- Dulicate Element are allowed \n"
   ]
  },
  {
   "cell_type": "code",
   "execution_count": 73,
   "metadata": {},
   "outputs": [
    {
     "name": "stdout",
     "output_type": "stream",
     "text": [
      "(1, 2, 3, 3, 4)\n"
     ]
    }
   ],
   "source": [
    "tt=(1,2,3,3,4)\n",
    "print(tt)"
   ]
  },
  {
   "cell_type": "code",
   "execution_count": 3,
   "metadata": {},
   "outputs": [
    {
     "name": "stdout",
     "output_type": "stream",
     "text": [
      "(1, 2, 3, 'hiii', 6j, True)\n",
      "6\n"
     ]
    }
   ],
   "source": [
    "#How to create tuple \n",
    "t1=(1,2,3,\"hiii\",6j,True)\n",
    "print(t1)\n",
    "print(len(t1))"
   ]
  },
  {
   "cell_type": "code",
   "execution_count": 4,
   "metadata": {},
   "outputs": [
    {
     "name": "stdout",
     "output_type": "stream",
     "text": [
      "<class 'tuple'>\n"
     ]
    }
   ],
   "source": [
    "#Check the type of tuple\n",
    "print(type(t1))"
   ]
  },
  {
   "cell_type": "code",
   "execution_count": 5,
   "metadata": {},
   "outputs": [
    {
     "name": "stdout",
     "output_type": "stream",
     "text": [
      "(1, 2, 3, 'hiii', 6j, True)\n"
     ]
    }
   ],
   "source": [
    "#print all Element of tuple\n",
    "print(t1[0:])"
   ]
  },
  {
   "cell_type": "code",
   "execution_count": 7,
   "metadata": {},
   "outputs": [
    {
     "name": "stdout",
     "output_type": "stream",
     "text": [
      "('hiii', 6j, True)\n"
     ]
    }
   ],
   "source": [
    "#print  Element from hiii to True of tuple\n",
    "print(t1[3:])"
   ]
  },
  {
   "cell_type": "code",
   "execution_count": 8,
   "metadata": {},
   "outputs": [
    {
     "name": "stdout",
     "output_type": "stream",
     "text": [
      "(1, 2, 3, 'hiii', 6j)\n"
     ]
    }
   ],
   "source": [
    "#print all Element of tuple(Negative index)\n",
    "print(t1[:-1])"
   ]
  },
  {
   "cell_type": "code",
   "execution_count": 11,
   "metadata": {},
   "outputs": [
    {
     "name": "stdout",
     "output_type": "stream",
     "text": [
      "(3, 'hiii')\n"
     ]
    }
   ],
   "source": [
    "#print 3 to hiii (Negative index)\n",
    "print(t1[-4:-2])"
   ]
  },
  {
   "cell_type": "markdown",
   "metadata": {},
   "source": [
    "### Change the tuple items\n",
    "- once tuple is created then elements will not modify but there is another way to modify it\n",
    "- Tuple will modify using list \n"
   ]
  },
  {
   "cell_type": "code",
   "execution_count": 12,
   "metadata": {},
   "outputs": [
    {
     "name": "stdout",
     "output_type": "stream",
     "text": [
      "[1, 2, 3, 'hiii', 6j, True]\n",
      "<class 'list'>\n"
     ]
    }
   ],
   "source": [
    "list1=list(t1)\n",
    "print(list1)\n",
    "print(type(list1))"
   ]
  },
  {
   "cell_type": "code",
   "execution_count": 15,
   "metadata": {},
   "outputs": [
    {
     "name": "stdout",
     "output_type": "stream",
     "text": [
      "[1, 2, 3, 'Hello', 6j, True]\n",
      "[1, 2, 3, 'Hello', 6j, True]\n"
     ]
    }
   ],
   "source": [
    "list1[3]=\"Hello\"\n",
    "print(list1)\n",
    "print(t1)"
   ]
  },
  {
   "cell_type": "code",
   "execution_count": 16,
   "metadata": {},
   "outputs": [
    {
     "name": "stdout",
     "output_type": "stream",
     "text": [
      "[1, 2, 3, 'Hello', 6j, True]\n"
     ]
    }
   ],
   "source": [
    "print(t1)"
   ]
  },
  {
   "cell_type": "code",
   "execution_count": 17,
   "metadata": {},
   "outputs": [],
   "source": [
    "#Convert t1(tuple) in list\n",
    "l1=list(t1)"
   ]
  },
  {
   "cell_type": "code",
   "execution_count": 19,
   "metadata": {},
   "outputs": [
    {
     "name": "stdout",
     "output_type": "stream",
     "text": [
      "[1, 2, 3, 'Yo', 6j, True]\n",
      "(1, 2, 3, 'Yo', 6j, True)\n",
      "<class 'tuple'>\n"
     ]
    }
   ],
   "source": [
    "#Change word \"Hello\" by \"Yo\"\n",
    "l1[-3]=\"Yo\"\n",
    "#Again convet to tuple \n",
    "t2=tuple(l1)\n",
    "print(l1)\n",
    "print(t2)\n",
    "print(type(t2))"
   ]
  },
  {
   "cell_type": "code",
   "execution_count": 25,
   "metadata": {},
   "outputs": [
    {
     "name": "stdout",
     "output_type": "stream",
     "text": [
      "1 2 3 Yo 6j True \n",
      "Completed\n"
     ]
    }
   ],
   "source": [
    "#Print all elemet using loops\n",
    "\n",
    "for i in t2:\n",
    "    print(i,end=\" \")\n",
    "else:\n",
    "    print(\"\\nCompleted\")"
   ]
  },
  {
   "cell_type": "code",
   "execution_count": 27,
   "metadata": {},
   "outputs": [
    {
     "data": {
      "text/plain": [
       "True"
      ]
     },
     "execution_count": 27,
     "metadata": {},
     "output_type": "execute_result"
    }
   ],
   "source": [
    "#check \"6j\" present or not\n",
    "6j in t2"
   ]
  },
  {
   "cell_type": "code",
   "execution_count": 28,
   "metadata": {},
   "outputs": [
    {
     "data": {
      "text/plain": [
       "True"
      ]
     },
     "execution_count": 28,
     "metadata": {},
     "output_type": "execute_result"
    }
   ],
   "source": [
    "5j not in t2"
   ]
  },
  {
   "cell_type": "code",
   "execution_count": 29,
   "metadata": {},
   "outputs": [
    {
     "ename": "TypeError",
     "evalue": "'tuple' object does not support item assignment",
     "output_type": "error",
     "traceback": [
      "\u001b[1;31m---------------------------------------------------------------------------\u001b[0m",
      "\u001b[1;31mTypeError\u001b[0m                                 Traceback (most recent call last)",
      "\u001b[1;32m<ipython-input-29-63c87c3f792a>\u001b[0m in \u001b[0;36m<module>\u001b[1;34m\u001b[0m\n\u001b[0;32m      1\u001b[0m \u001b[1;31m#Add new items fails in tuple, varify\u001b[0m\u001b[1;33m\u001b[0m\u001b[1;33m\u001b[0m\u001b[1;33m\u001b[0m\u001b[0m\n\u001b[1;32m----> 2\u001b[1;33m \u001b[0mt2\u001b[0m\u001b[1;33m[\u001b[0m\u001b[1;36m6\u001b[0m\u001b[1;33m]\u001b[0m\u001b[1;33m=\u001b[0m\u001b[1;34m\"gsjg\"\u001b[0m\u001b[1;33m\u001b[0m\u001b[1;33m\u001b[0m\u001b[0m\n\u001b[0m",
      "\u001b[1;31mTypeError\u001b[0m: 'tuple' object does not support item assignment"
     ]
    }
   ],
   "source": [
    "#Add new items fails in tuple, varify\n",
    "t2[6]=\"gsjg\""
   ]
  },
  {
   "cell_type": "code",
   "execution_count": 37,
   "metadata": {},
   "outputs": [
    {
     "name": "stdout",
     "output_type": "stream",
     "text": [
      "0\n",
      "1\n"
     ]
    }
   ],
   "source": [
    "#count no. of element in tuple\n",
    "print(t2.count(5j))\n",
    "print(t2.count(2))"
   ]
  },
  {
   "cell_type": "code",
   "execution_count": 42,
   "metadata": {},
   "outputs": [
    {
     "name": "stdout",
     "output_type": "stream",
     "text": [
      "('kjqsi',)\n",
      "<class 'tuple'>\n"
     ]
    }
   ],
   "source": [
    "#create tuple with only 1 element \n",
    "t4=(\"kjqsi\",)\n",
    "\n",
    "print(t4)\n",
    "print(type(t4))"
   ]
  },
  {
   "cell_type": "code",
   "execution_count": 52,
   "metadata": {},
   "outputs": [
    {
     "name": "stdout",
     "output_type": "stream",
     "text": [
      "(1, 2, 3, 'Yo', 6j, True)\n",
      "<class 'list'>\n",
      "[1, 2, 3, 'Yo', 6j]\n",
      "(1, 2, 3, 'Yo', 6j)\n"
     ]
    }
   ],
   "source": [
    "#Remove element from tuple\n",
    "#Direct deleting is not works with tuple\n",
    "print(t2)\n",
    "l2=list(t2)\n",
    "print(type(l2))\n",
    "l2.pop()\n",
    "print(l2)\n",
    "t3=tuple(l2)\n",
    "print(t3)"
   ]
  },
  {
   "cell_type": "code",
   "execution_count": 53,
   "metadata": {},
   "outputs": [],
   "source": [
    "#Delete entired tuple\n",
    "del t2"
   ]
  },
  {
   "cell_type": "code",
   "execution_count": 61,
   "metadata": {},
   "outputs": [
    {
     "name": "stdout",
     "output_type": "stream",
     "text": [
      "(1, 2, 3, 33, 4, 23, 43, 5, 55, 3)\n",
      "<class 'tuple'>\n"
     ]
    },
    {
     "ename": "TypeError",
     "evalue": "can only concatenate list (not \"tuple\") to list",
     "output_type": "error",
     "traceback": [
      "\u001b[1;31m---------------------------------------------------------------------------\u001b[0m",
      "\u001b[1;31mTypeError\u001b[0m                                 Traceback (most recent call last)",
      "\u001b[1;32m<ipython-input-61-3a9594db5c5c>\u001b[0m in \u001b[0;36m<module>\u001b[1;34m\u001b[0m\n\u001b[0;32m      6\u001b[0m \u001b[0mprint\u001b[0m\u001b[1;33m(\u001b[0m\u001b[0mtype\u001b[0m\u001b[1;33m(\u001b[0m\u001b[0mt3\u001b[0m\u001b[1;33m)\u001b[0m\u001b[1;33m)\u001b[0m\u001b[1;33m\u001b[0m\u001b[1;33m\u001b[0m\u001b[0m\n\u001b[0;32m      7\u001b[0m \u001b[0ml1\u001b[0m\u001b[1;33m=\u001b[0m\u001b[1;33m[\u001b[0m\u001b[1;36m1\u001b[0m\u001b[1;33m,\u001b[0m\u001b[1;36m1\u001b[0m\u001b[1;33m,\u001b[0m\u001b[1;36m2\u001b[0m\u001b[1;33m,\u001b[0m\u001b[1;36m3\u001b[0m\u001b[1;33m,\u001b[0m\u001b[1;36m4\u001b[0m\u001b[1;33m,\u001b[0m\u001b[1;36m3\u001b[0m\u001b[1;33m]\u001b[0m\u001b[1;33m\u001b[0m\u001b[1;33m\u001b[0m\u001b[0m\n\u001b[1;32m----> 8\u001b[1;33m \u001b[0mt4\u001b[0m\u001b[1;33m=\u001b[0m\u001b[0ml1\u001b[0m\u001b[1;33m+\u001b[0m\u001b[0mt3\u001b[0m    \u001b[1;31m#List and tuple can't concat\u001b[0m\u001b[1;33m\u001b[0m\u001b[1;33m\u001b[0m\u001b[0m\n\u001b[0m",
      "\u001b[1;31mTypeError\u001b[0m: can only concatenate list (not \"tuple\") to list"
     ]
    }
   ],
   "source": [
    "#How to join to tuple\n",
    "t1=(1,2,3,33,4)\n",
    "t2=(23,43,5,55,3)\n",
    "t3=t1+t2\n",
    "print(t3)\n",
    "print(type(t3))\n",
    "l1=[1,1,2,3,4,3]\n",
    "t4=l1+t3    #List and tuple can't concat"
   ]
  },
  {
   "cell_type": "code",
   "execution_count": 63,
   "metadata": {},
   "outputs": [
    {
     "name": "stdout",
     "output_type": "stream",
     "text": [
      "<class 'tuple'>\n",
      "(1, 2, 3, 4, 42, 5.5)\n"
     ]
    }
   ],
   "source": [
    "#How to construct tuple with tuple\n",
    "t1=tuple((1,2,3,4,42,5.5))\n",
    "print(type(t1))\n",
    "print(t1)"
   ]
  },
  {
   "cell_type": "markdown",
   "metadata": {},
   "source": [
    "## Tuple Methods\n",
    "- There ara only 2 methods avilable for tuple \n",
    " 1. Count \n",
    " 2. Index\n"
   ]
  },
  {
   "cell_type": "code",
   "execution_count": 66,
   "metadata": {},
   "outputs": [
    {
     "name": "stdout",
     "output_type": "stream",
     "text": [
      "(1, 2, 3, 4, 42, 5.5)\n"
     ]
    }
   ],
   "source": [
    "print(t1)"
   ]
  },
  {
   "cell_type": "code",
   "execution_count": 70,
   "metadata": {},
   "outputs": [
    {
     "name": "stdout",
     "output_type": "stream",
     "text": [
      "Count of 3 in tuple= 1\n"
     ]
    }
   ],
   "source": [
    "print(\"Count of 3 in tuple=\",t1.count(3))"
   ]
  },
  {
   "cell_type": "code",
   "execution_count": 71,
   "metadata": {},
   "outputs": [
    {
     "name": "stdout",
     "output_type": "stream",
     "text": [
      "Count of 5.5 in tuple= 1\n"
     ]
    }
   ],
   "source": [
    "print(\"Count of 5.5 in tuple=\",t1.count(5.5))"
   ]
  },
  {
   "cell_type": "code",
   "execution_count": 72,
   "metadata": {},
   "outputs": [
    {
     "name": "stdout",
     "output_type": "stream",
     "text": [
      "Index of 3= 2\n"
     ]
    }
   ],
   "source": [
    "print(\"Index of 3=\",t1.index(3))"
   ]
  },
  {
   "cell_type": "code",
   "execution_count": 10,
   "metadata": {},
   "outputs": [
    {
     "name": "stdout",
     "output_type": "stream",
     "text": [
      "(1, 2, 3, 4, 5)\n",
      "1\n",
      "2\n",
      "3\n",
      "4\n",
      "5\n"
     ]
    }
   ],
   "source": [
    "t2=(1,2,3,4,5)\n",
    "print(t2)\n",
    "i=1\n",
    "while i in t2:\n",
    "    print(i)\n",
    "    i=i+1\n",
    "    "
   ]
  },
  {
   "cell_type": "markdown",
   "metadata": {},
   "source": [
    "# Set \n",
    "- Unorded\n",
    "- Uninxed\n",
    "- Mutable(Chnagleble) for only few tasks(Union,Intersection,.....)\n",
    "- Allows different types of elements\n",
    "- Duplicate elements are not allows\n",
    "- {} is used to represent a SET\n"
   ]
  },
  {
   "cell_type": "code",
   "execution_count": 11,
   "metadata": {},
   "outputs": [
    {
     "name": "stdout",
     "output_type": "stream",
     "text": [
      "{1, 2, 3, 4, 5, 5.7, 'hgsd'}\n"
     ]
    }
   ],
   "source": [
    "#create set \n",
    "set1={1,2,3,4,5,\"hgsd\",5.7}\n",
    "print(set1)"
   ]
  },
  {
   "cell_type": "code",
   "execution_count": 12,
   "metadata": {},
   "outputs": [
    {
     "name": "stdout",
     "output_type": "stream",
     "text": [
      "1 2 3 4 5 5.7 hgsd "
     ]
    }
   ],
   "source": [
    "#print all elments using loop \n",
    "for i in set1:\n",
    "    print(i,end=\" \")"
   ]
  },
  {
   "cell_type": "code",
   "execution_count": 13,
   "metadata": {},
   "outputs": [
    {
     "name": "stdout",
     "output_type": "stream",
     "text": [
      "True\n"
     ]
    }
   ],
   "source": [
    "# Check element exits set or not\n",
    "print(5.7 in set1)"
   ]
  },
  {
   "cell_type": "code",
   "execution_count": 14,
   "metadata": {},
   "outputs": [
    {
     "name": "stdout",
     "output_type": "stream",
     "text": [
      "False\n"
     ]
    }
   ],
   "source": [
    "print(5.7 not in set1)"
   ]
  },
  {
   "cell_type": "code",
   "execution_count": 18,
   "metadata": {},
   "outputs": [
    {
     "name": "stdout",
     "output_type": "stream",
     "text": [
      "{1, 2, 3, 4, 5, 5.7, 'hgsd', 'hufkdh'}\n",
      "{1, 2, 3, 4, 5, 5.7, 99, 'hgsd', 'hufkdh'}\n"
     ]
    }
   ],
   "source": [
    "# Change items (Modity set) elements\n",
    "#Set alllows to inset new element at last using add method & Existing element will not modify \n",
    "set1.add(\"hufkdh\")\n",
    "print(set1)\n",
    "set1.add(99)\n",
    "print(set1)"
   ]
  },
  {
   "cell_type": "code",
   "execution_count": 20,
   "metadata": {},
   "outputs": [
    {
     "name": "stdout",
     "output_type": "stream",
     "text": [
      "{'d', 1, 2, 3, 4, 5, 5.7, 99, 'ghwhdqg', (3+7j), 'gfyd', 'q', 'hgsd', 'g', 'h', 22, 'w', 'hufkdh'}\n"
     ]
    }
   ],
   "source": [
    "#How to add multiple elements in set \n",
    "set1.update([\"ghwhdqg\",22,\"gfyd\",3+7j])\n",
    "print(set1)"
   ]
  },
  {
   "cell_type": "markdown",
   "metadata": {},
   "source": [
    "## Remove set elements\n",
    "### using remove method\n"
   ]
  },
  {
   "cell_type": "code",
   "execution_count": 21,
   "metadata": {},
   "outputs": [
    {
     "name": "stdout",
     "output_type": "stream",
     "text": [
      "{'d', 1, 2, 3, 4, 5, 99, 'ghwhdqg', (3+7j), 'gfyd', 'q', 'hgsd', 'g', 'h', 22, 'w', 'hufkdh'}\n"
     ]
    }
   ],
   "source": [
    "set1.remove(5.7)\n",
    "print(set1)"
   ]
  },
  {
   "cell_type": "code",
   "execution_count": 25,
   "metadata": {},
   "outputs": [
    {
     "name": "stdout",
     "output_type": "stream",
     "text": [
      "{1, 2, 3, 4, 5, 99, 'ghwhdqg', (3+7j), 'gfyd', 'q', 'hgsd', 'g', 'h', 22, 'w', 'hufkdh'}\n"
     ]
    }
   ],
   "source": [
    "#using discard method\n",
    "set1.discard(\"d\")\n",
    "print(set1)"
   ]
  },
  {
   "cell_type": "code",
   "execution_count": 26,
   "metadata": {},
   "outputs": [],
   "source": [
    "set2=set1.copy()"
   ]
  },
  {
   "cell_type": "code",
   "execution_count": 27,
   "metadata": {},
   "outputs": [
    {
     "name": "stdout",
     "output_type": "stream",
     "text": [
      "{1, 2, 3, 4, 5, 'gfyd', 22, 'g', 'ghwhdqg', 'w', 'q', 'hufkdh', (3+7j), 99, 'gshad', 'hgsd', 'h'}\n",
      "{1, 2, 3, 4, 5, 'gfyd', 22, 'g', (3+7j), 99, 'ghwhdqg', 'hufkdh', 'hgsd', 'h', 'w', 'q'}\n"
     ]
    }
   ],
   "source": [
    "set1.add(\"gshad\")\n",
    "print(set1)\n",
    "print(set2)"
   ]
  },
  {
   "cell_type": "code",
   "execution_count": 28,
   "metadata": {},
   "outputs": [
    {
     "name": "stdout",
     "output_type": "stream",
     "text": [
      "{1, 2, 3, 4, 5, 'gfyd', 22, 'g', 'ghwhdqg', 'w', 'q', 'hufkdh', (3+7j), 99, 'gshad', 'hgsd', 'h'}\n",
      "{1, 2, 3, 4, 5, 'gfyd', 22, 'g', (3+7j), 99, 'ghwhdqg', 'hufkdh', 'hgsd', 'h', 'w', 'q'}\n"
     ]
    }
   ],
   "source": [
    "print(set1)\n",
    "print(set2)"
   ]
  },
  {
   "cell_type": "code",
   "execution_count": 29,
   "metadata": {},
   "outputs": [],
   "source": [
    "set2.add(\"Yo\")"
   ]
  },
  {
   "cell_type": "code",
   "execution_count": 30,
   "metadata": {},
   "outputs": [
    {
     "name": "stdout",
     "output_type": "stream",
     "text": [
      "{1, 2, 3, 4, 5, 'Yo', 'gfyd', 22, 'g', (3+7j), 99, 'ghwhdqg', 'hufkdh', 'hgsd', 'h', 'w', 'q'}\n"
     ]
    }
   ],
   "source": [
    "print(set2)"
   ]
  },
  {
   "cell_type": "code",
   "execution_count": 31,
   "metadata": {},
   "outputs": [],
   "source": [
    "#How to clear set \n",
    "set1.clear()"
   ]
  },
  {
   "cell_type": "code",
   "execution_count": 32,
   "metadata": {},
   "outputs": [
    {
     "data": {
      "text/plain": [
       "set()"
      ]
     },
     "execution_count": 32,
     "metadata": {},
     "output_type": "execute_result"
    }
   ],
   "source": [
    "set1"
   ]
  },
  {
   "cell_type": "markdown",
   "metadata": {},
   "source": [
    "### How to join 2 or more sets\n",
    "- Union \n",
    "- Insersection\n",
    "- Difference\n",
    "- Issubset\n",
    "- Issuperset\n",
    "- Isdisjoint\n",
    "- Symmetric diffence"
   ]
  },
  {
   "cell_type": "code",
   "execution_count": 44,
   "metadata": {},
   "outputs": [
    {
     "name": "stdout",
     "output_type": "stream",
     "text": [
      "{'d', 'b', 'a', 'g', 's', 'f'}\n",
      "{'z', 'v', 'x', 'b', 'c'}\n"
     ]
    }
   ],
   "source": [
    "sa={\"a\",\"s\",\"d\",\"f\",\"g\",\"b\"}\n",
    "sb={\"z\",\"x\",\"c\",\"v\",\"b\"}\n",
    "print(sa)\n",
    "print(sb)\n"
   ]
  },
  {
   "cell_type": "code",
   "execution_count": 42,
   "metadata": {},
   "outputs": [
    {
     "name": "stdout",
     "output_type": "stream",
     "text": [
      "{'d', 'z', 'v', 'x', 'b', 'a', 'c', 'g', 's', 'f'}\n"
     ]
    }
   ],
   "source": [
    "# Union Method\n",
    "st=sa.union(sb)\n",
    "print(st)"
   ]
  },
  {
   "cell_type": "code",
   "execution_count": 47,
   "metadata": {},
   "outputs": [
    {
     "name": "stdout",
     "output_type": "stream",
     "text": [
      "{'d', 'a', 'g', 's', 'f'}\n",
      "{'z', 'v', 'x', 'c'}\n"
     ]
    }
   ],
   "source": [
    "#Differnce Method\n",
    "print(sa.difference(sb))  #sa-sb\n",
    "print(sb.difference(sa))  #sb-sa"
   ]
  },
  {
   "cell_type": "code",
   "execution_count": 46,
   "metadata": {},
   "outputs": [
    {
     "name": "stdout",
     "output_type": "stream",
     "text": [
      "{'b'}\n"
     ]
    }
   ],
   "source": [
    "#Intrsection method\n",
    "print(sa.intersection(sb))"
   ]
  },
  {
   "cell_type": "code",
   "execution_count": 54,
   "metadata": {},
   "outputs": [
    {
     "name": "stdout",
     "output_type": "stream",
     "text": [
      "True\n"
     ]
    },
    {
     "data": {
      "text/plain": [
       "True"
      ]
     },
     "execution_count": 54,
     "metadata": {},
     "output_type": "execute_result"
    }
   ],
   "source": [
    "sd={1,2,3,4,5}\n",
    "sc={1,2,3,4,5,6,7,8,9}\n",
    "sa.isdisjoints(sd)\n",
    "print(sd.issubset(sd))\n",
    "sc.issuperset(sd)\n"
   ]
  },
  {
   "cell_type": "markdown",
   "metadata": {},
   "source": [
    "# Dictionary\n",
    "- Unordered\n",
    "- Changeble\n",
    "- {} is used to create it \n",
    "- Element will be form of \"Key value \" pair\n"
   ]
  },
  {
   "cell_type": "code",
   "execution_count": 4,
   "metadata": {},
   "outputs": [
    {
     "name": "stdout",
     "output_type": "stream",
     "text": [
      "{'brand': 'Jaguar', 'Model': 'RS200'}\n"
     ]
    }
   ],
   "source": [
    "#print Dictionry \n",
    "v={'brand':\"Jaguar\",\"Model\":\"RS200\"}\n",
    "print(v)"
   ]
  },
  {
   "cell_type": "code",
   "execution_count": 8,
   "metadata": {},
   "outputs": [
    {
     "name": "stdout",
     "output_type": "stream",
     "text": [
      "Jaguar\n",
      "RS200\n"
     ]
    }
   ],
   "source": [
    "print(v[\"brand\"])\n",
    "print(v[\"Model\"])"
   ]
  },
  {
   "cell_type": "code",
   "execution_count": 9,
   "metadata": {},
   "outputs": [
    {
     "name": "stdout",
     "output_type": "stream",
     "text": [
      "Jaguar\n"
     ]
    }
   ],
   "source": [
    "#print using get dictionary\n",
    "print(v.get(\"brand\"))"
   ]
  },
  {
   "cell_type": "code",
   "execution_count": 17,
   "metadata": {},
   "outputs": [
    {
     "name": "stdout",
     "output_type": "stream",
     "text": [
      "{'brand': 'Jaguar', 'Model': 'xcder', 'model': 'fdjcfjgvj'}\n"
     ]
    }
   ],
   "source": [
    "#Change items-\n",
    "v[\"model\"]=\"fdjcfjgvj\"\n",
    "print(v)"
   ]
  },
  {
   "cell_type": "code",
   "execution_count": 18,
   "metadata": {},
   "outputs": [
    {
     "name": "stdout",
     "output_type": "stream",
     "text": [
      "Jaguar\n",
      "xcder\n",
      "fdjcfjgvj\n"
     ]
    }
   ],
   "source": [
    "#print using loop\n",
    "for i in v.values():\n",
    "    print(i)"
   ]
  },
  {
   "cell_type": "code",
   "execution_count": 19,
   "metadata": {},
   "outputs": [
    {
     "name": "stdout",
     "output_type": "stream",
     "text": [
      "brand\n",
      "Model\n",
      "model\n"
     ]
    }
   ],
   "source": [
    "for i in v:\n",
    "    print(i)"
   ]
  },
  {
   "cell_type": "code",
   "execution_count": 24,
   "metadata": {},
   "outputs": [
    {
     "name": "stdout",
     "output_type": "stream",
     "text": [
      "brand Jaguar\n",
      "Model xcder\n",
      "model fdjcfjgvj\n"
     ]
    }
   ],
   "source": [
    "#print both values using loop \n",
    "for i,j in v.items():\n",
    "    print(i,j)"
   ]
  },
  {
   "cell_type": "code",
   "execution_count": 25,
   "metadata": {},
   "outputs": [
    {
     "name": "stdout",
     "output_type": "stream",
     "text": [
      "3\n"
     ]
    }
   ],
   "source": [
    "#Lenth of dectionary\n",
    "print(len(v))"
   ]
  },
  {
   "cell_type": "code",
   "execution_count": 35,
   "metadata": {},
   "outputs": [
    {
     "name": "stdout",
     "output_type": "stream",
     "text": [
      "True\n",
      "True\n"
     ]
    }
   ],
   "source": [
    "#Check Jaguar is present or not\n",
    "print(\"Jaguar\"  in v.values())\n",
    "print(\"Model\" in v)"
   ]
  },
  {
   "cell_type": "code",
   "execution_count": 37,
   "metadata": {},
   "outputs": [],
   "source": [
    "#How to add new items in dictionary\n",
    "v[\"Name\"]=\"Yogesh\""
   ]
  },
  {
   "cell_type": "code",
   "execution_count": 38,
   "metadata": {},
   "outputs": [
    {
     "name": "stdout",
     "output_type": "stream",
     "text": [
      "{'brand': 'Jaguar', 'Model': 'xcder', 'model': 'fdjcfjgvj', 'Name': 'Yogesh'}\n"
     ]
    }
   ],
   "source": [
    "print(v)"
   ]
  },
  {
   "cell_type": "code",
   "execution_count": 40,
   "metadata": {},
   "outputs": [
    {
     "data": {
      "text/plain": [
       "'fdjcfjgvj'"
      ]
     },
     "execution_count": 40,
     "metadata": {},
     "output_type": "execute_result"
    }
   ],
   "source": [
    "#Remove element from dictionary\n",
    "v.pop(\"model\")"
   ]
  },
  {
   "cell_type": "code",
   "execution_count": 41,
   "metadata": {},
   "outputs": [
    {
     "name": "stdout",
     "output_type": "stream",
     "text": [
      "{'brand': 'Jaguar', 'Model': 'xcder', 'Name': 'Yogesh'}\n"
     ]
    }
   ],
   "source": [
    "print(v)"
   ]
  },
  {
   "cell_type": "code",
   "execution_count": 42,
   "metadata": {},
   "outputs": [
    {
     "name": "stdout",
     "output_type": "stream",
     "text": [
      "{'brand': 'Jaguar', 'Model': 'xcder', 'Name': 'Owner'}\n"
     ]
    }
   ],
   "source": [
    "v[\"Name\"]=\"Owner\"\n",
    "print(v)"
   ]
  },
  {
   "cell_type": "code",
   "execution_count": 43,
   "metadata": {},
   "outputs": [],
   "source": [
    "v[\"Name\"]=\"Yogesh\""
   ]
  },
  {
   "cell_type": "code",
   "execution_count": 44,
   "metadata": {},
   "outputs": [
    {
     "data": {
      "text/plain": [
       "{'brand': 'Jaguar', 'Model': 'xcder', 'Name': 'Yogesh'}"
      ]
     },
     "execution_count": 44,
     "metadata": {},
     "output_type": "execute_result"
    }
   ],
   "source": [
    "v"
   ]
  },
  {
   "cell_type": "code",
   "execution_count": 45,
   "metadata": {},
   "outputs": [],
   "source": [
    "#emove using del key word \n",
    "del v"
   ]
  },
  {
   "cell_type": "code",
   "execution_count": 47,
   "metadata": {},
   "outputs": [],
   "source": [
    "v={'brand': 'Jaguar', 'Model': 'xcder', 'Name': 'Yogesh'}"
   ]
  },
  {
   "cell_type": "code",
   "execution_count": 49,
   "metadata": {},
   "outputs": [],
   "source": [
    "del v[\"Model\"]"
   ]
  },
  {
   "cell_type": "code",
   "execution_count": 50,
   "metadata": {},
   "outputs": [
    {
     "data": {
      "text/plain": [
       "{'brand': 'Jaguar', 'Name': 'Yogesh'}"
      ]
     },
     "execution_count": 50,
     "metadata": {},
     "output_type": "execute_result"
    }
   ],
   "source": [
    "v"
   ]
  },
  {
   "cell_type": "code",
   "execution_count": 51,
   "metadata": {},
   "outputs": [],
   "source": [
    "#CLear Dictionary & Copy \n",
    "vcpy=v.copy()"
   ]
  },
  {
   "cell_type": "code",
   "execution_count": 52,
   "metadata": {},
   "outputs": [],
   "source": [
    "v.clear()"
   ]
  },
  {
   "cell_type": "code",
   "execution_count": 53,
   "metadata": {},
   "outputs": [
    {
     "data": {
      "text/plain": [
       "{}"
      ]
     },
     "execution_count": 53,
     "metadata": {},
     "output_type": "execute_result"
    }
   ],
   "source": [
    "v"
   ]
  },
  {
   "cell_type": "code",
   "execution_count": 54,
   "metadata": {},
   "outputs": [
    {
     "data": {
      "text/plain": [
       "{'brand': 'Jaguar', 'Name': 'Yogesh'}"
      ]
     },
     "execution_count": 54,
     "metadata": {},
     "output_type": "execute_result"
    }
   ],
   "source": [
    "vcpy"
   ]
  },
  {
   "cell_type": "code",
   "execution_count": 55,
   "metadata": {},
   "outputs": [],
   "source": [
    "#Make copy of vcpy using dict ()function\n",
    "new_copy=dict(vcpy)"
   ]
  },
  {
   "cell_type": "code",
   "execution_count": 56,
   "metadata": {},
   "outputs": [
    {
     "data": {
      "text/plain": [
       "{'brand': 'Jaguar', 'Name': 'Yogesh'}"
      ]
     },
     "execution_count": 56,
     "metadata": {},
     "output_type": "execute_result"
    }
   ],
   "source": [
    "new_copy\n"
   ]
  },
  {
   "cell_type": "code",
   "execution_count": 57,
   "metadata": {},
   "outputs": [
    {
     "data": {
      "text/plain": [
       "'Yogesh'"
      ]
     },
     "execution_count": 57,
     "metadata": {},
     "output_type": "execute_result"
    }
   ],
   "source": [
    "new_copy[\"Name\"]"
   ]
  },
  {
   "cell_type": "code",
   "execution_count": 60,
   "metadata": {},
   "outputs": [],
   "source": [
    "#How to create nested Dictionaries\n",
    "#Create 4 dictionaries for your mobile,tv,vehicle\n",
    "#Laptop with 4 parameters each merge all these 4 \n",
    "m={\"brand\":\"MOTO\",\"model\":\"G4+\",\"Ram\":\"3GB\",\"Rom\":\"64GB\"}\n",
    "tv={\"brand\":\"Samsaung\",\"model\":\"IDK\",\"Display\":\"HD\",\"Smart_tV\":\"YES\"}\n",
    "\n",
    "veh={\"brand\":\"Jaguar\",\"Owner\":\"Yogesh\",\"Model\":\"xc-233\",\"Year\":2030}\n",
    "laptop={\"brand\":\"Dell\",\"Owner\":\"Yogesh\",\"Ram\":\"4GB\",\"Rom\":\"512GB\"}"
   ]
  },
  {
   "cell_type": "code",
   "execution_count": 65,
   "metadata": {},
   "outputs": [],
   "source": [
    "my_items_dict={\"Mobile_dict\":m       ,\"TV_dict\":tv     ,\"Vehicle_dict\":veh    ,\"Laptop_dict\":laptop}"
   ]
  },
  {
   "cell_type": "code",
   "execution_count": 66,
   "metadata": {},
   "outputs": [
    {
     "name": "stdout",
     "output_type": "stream",
     "text": [
      "{'Mobile_dict': {'brand': 'MOTO', 'model': 'G4+', 'Ram': '3GB', 'Rom': '64GB'}, 'TV_dict': {'brand': 'Samsaung', 'model': 'IDK', 'Display': 'HD', 'Smart_tV': 'YES'}, 'Vehicle_dict': {'brand': 'Jaguar', 'Owner': 'Yogesh', 'Model': 'xc-233', 'Year': 2030}, 'Laptop_dict': {'brand': 'Dell', 'Owner': 'Yogesh', 'Ram': '4GB', 'Rom': '512GB'}}\n"
     ]
    }
   ],
   "source": [
    "print(my_items_dict)"
   ]
  },
  {
   "cell_type": "code",
   "execution_count": 69,
   "metadata": {},
   "outputs": [
    {
     "name": "stdout",
     "output_type": "stream",
     "text": [
      "{'name': 'Yo', 'nnn': 3433453}\n"
     ]
    }
   ],
   "source": [
    "#Another way to create dictionary using contructor\n",
    "new_dict=dict(name=\"Yo\",nnn=3433453)\n",
    "print(new_dict)"
   ]
  },
  {
   "cell_type": "code",
   "execution_count": 70,
   "metadata": {},
   "outputs": [],
   "source": [
    "del new_dict"
   ]
  },
  {
   "cell_type": "code",
   "execution_count": null,
   "metadata": {},
   "outputs": [],
   "source": []
  }
 ],
 "metadata": {
  "kernelspec": {
   "display_name": "Python 3",
   "language": "python",
   "name": "python3"
  },
  "language_info": {
   "codemirror_mode": {
    "name": "ipython",
    "version": 3
   },
   "file_extension": ".py",
   "mimetype": "text/x-python",
   "name": "python",
   "nbconvert_exporter": "python",
   "pygments_lexer": "ipython3",
   "version": "3.7.4"
  }
 },
 "nbformat": 4,
 "nbformat_minor": 2
}
